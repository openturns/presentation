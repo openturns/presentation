{
 "cells": [
  {
   "cell_type": "markdown",
   "id": "5d26b2fa",
   "metadata": {
    "slideshow": {
     "slide_type": "slide"
    }
   },
   "source": [
    "# Python functions - Overview\n",
    "\n",
    "**Coding party OpenTURNS, March 2023**\n",
    "\n",
    "_Michaël Baudin_\n",
    "\n",
    "The goal of this session is to get an overview of Python functions. We present the type of function, its purpose and the type of code that the user must provide."
   ]
  },
  {
   "cell_type": "code",
   "execution_count": 1,
   "id": "00d8352c",
   "metadata": {},
   "outputs": [
    {
     "data": {
      "text/plain": [
       "'1.19'"
      ]
     },
     "execution_count": 1,
     "metadata": {},
     "output_type": "execute_result"
    }
   ],
   "source": [
    "import openturns as ot\n",
    "import openturns.viewer as otv\n",
    "import numpy as np\n",
    "\n",
    "ot.__version__"
   ]
  },
  {
   "cell_type": "markdown",
   "id": "92dd18c1",
   "metadata": {
    "slideshow": {
     "slide_type": "slide"
    }
   },
   "source": [
    "## A generic framework\n",
    "\n",
    "![ABC Methodology](../images/MethodologieIncertitude-EN_arial.png)\n",
    "\n",
    "**Figure 1.** Defining the physical model $g$ is the begining of any uncertainty study."
   ]
  },
  {
   "cell_type": "markdown",
   "id": "957ec29f",
   "metadata": {
    "slideshow": {
     "slide_type": "slide"
    }
   },
   "source": [
    "## Definition of a Function in OpenTURNS\n",
    "\n",
    "In OpenTURNS, a `Function` is defined from ([see](https://github.com/openturns/openturns/blob/18146c0a82819c3f8d8e691a119a93c155429422/lib/src/Base/Func/openturns/Function.hxx#L74):\n",
    "- an evaluation which has an input `Point` and returns an output `Point` (see [Evaluation](https://github.com/openturns/openturns/blob/18146c0a82819c3f8d8e691a119a93c155429422/lib/src/Base/Func/openturns/Evaluation.hxx#L83)) ;\n",
    "- the gradient which has an input `Point` and returns an output `Matrix` (see [GradientImplementation](https://github.com/openturns/openturns/blob/18146c0a82819c3f8d8e691a119a93c155429422/lib/src/Base/Func/openturns/GradientImplementation.hxx#L82)) ;\n",
    "- the hessian which has an input `Point` and returns and output `SymmetricTensor` (see [HessianImplementation](https://github.com/openturns/openturns/blob/18146c0a82819c3f8d8e691a119a93c155429422/lib/src/Base/Func/openturns/HessianImplementation.hxx#L79)).\n"
   ]
  },
  {
   "cell_type": "markdown",
   "id": "46681668",
   "metadata": {
    "slideshow": {
     "slide_type": "slide"
    }
   },
   "source": [
    "## Different types of Python functions\n",
    "\n",
    "| Type | Purpose | Implementation |\n",
    "|---|---|---|\n",
    "| `PythonFunction` | Point to Point | `function` |\n",
    "| `OpenTURNSPythonFunction`| Point to Point | `class` |\n",
    "| `PythonFieldFunction` | Field to Field  |  `function` |\n",
    "| `PythonPointToFieldFunction` | Point to Field  |  `function` |\n",
    "| `PythonFieldToPointFunction` | Field to Point |  `function` |\n",
    "| `OpenTURNSPythonFieldFunction` | Field to Field |  `class` |\n",
    "| `OpenTURNSPythonPointToFieldFunction` | Point to Field | `class` |\n",
    "| `OpenTURNSPythonFieldToPointFunction` | Field to Field | `class` |\n",
    "\n",
    "**Table 1.** Different types of Python functions depending on the inputs and outputs and the code the user must provide."
   ]
  },
  {
   "cell_type": "markdown",
   "id": "54b773ce",
   "metadata": {
    "slideshow": {
     "slide_type": "slide"
    }
   },
   "source": [
    "Below is a collection of relevant and interesting help pages.\n",
    "\n",
    "| Link | Type |\n",
    "|---|---|\n",
    "| [Defining Python and symbolic functions](https://openturns.github.io/openturns/latest/auto_functional_modeling/vectorial_functions/plot_quick_start_functions.html#sphx-glr-auto-functional-modeling-vectorial-functions-plot-quick-start-functions-py) | `PythonFunction` |\n",
    "| [Define a function with a field output](https://openturns.github.io/openturns/latest/auto_functional_modeling/field_functions/plot_viscous_fall_field_function.html#sphx-glr-auto-functional-modeling-field-functions-plot-viscous-fall-field-function-py) | `PythonPointToFieldFunction` |\n",
    "| [Wrapper development](https://openturns.github.io/openturns/latest/developer_guide/wrapper_development.html) | `coupling_tools` |\n",
    "\n",
    "**Table 2.** Help pages which present the use of Python functions.\n",
    "\n"
   ]
  },
  {
   "cell_type": "markdown",
   "id": "027c0867",
   "metadata": {
    "slideshow": {
     "slide_type": "slide"
    }
   },
   "source": [
    "## Why may we use a Python function?\n",
    "\n",
    "There are several reasons to use a Python function.\n",
    "\n",
    "- Use **existing Python code** implementing a physical model $g$. This model may use `numpy`, `scipy` or a dedicated API (e.g. `AsterStudy` or `Telemac`).\n",
    "- Achieve a **great flexibility** in the code, involving several other Python functions or classes.\n",
    "- Provide the code to **another user**, with the possibility to **maintain the code** easily.\n",
    "- Get **performance** by parallelizing the evaluation."
   ]
  },
  {
   "cell_type": "markdown",
   "id": "69e492db",
   "metadata": {
    "slideshow": {
     "slide_type": "slide"
    }
   },
   "source": [
    "## What is the PythonFunction necessary and useful?\n",
    "\n",
    "Surprise for a Python user:\n",
    "\n",
    "- Providing a `PythonFunction` class in a Python library may seem surprising. \n",
    "- Other libraries (e.g. `scipy`) do not require that.\n",
    "\n",
    "Discussion:\n",
    "\n",
    "- The `PythonFunction` is **necessary**, because OpenTURNS is a C++ library accessible through SWIG.\n",
    "- It is **useful**, because OpenTURNS provides many different types of functions so that each algorithm can be as efficient as possible.\n",
    "\n",
    "Examples:\n",
    "\n",
    "- The `ParametricFunction` class is useful for calibration algorithms.\n",
    "- The `DistanceToDomainFunction` class is useful for HSIC indices.\n",
    "- The `Point(or Field)toPoint(or Field)Function` is class is useful for stochastic processes."
   ]
  },
  {
   "cell_type": "markdown",
   "id": "ad82da58",
   "metadata": {
    "slideshow": {
     "slide_type": "slide"
    }
   },
   "source": [
    "## The simplest possible example"
   ]
  },
  {
   "cell_type": "code",
   "execution_count": 2,
   "id": "4a01babd",
   "metadata": {},
   "outputs": [
    {
     "name": "stdout",
     "output_type": "stream",
     "text": [
      "x =  [1.0, 1.0, 1.0]\n",
      "y =  [3,0]\n"
     ]
    }
   ],
   "source": [
    "def mySimulator(x):\n",
    "    y0 = x[0] + x[1] + x[2]\n",
    "    y1 = x[0] - x[1] * x[2]\n",
    "    y = [y0, y1]  # Will be converted to a Point by SWIG\n",
    "    return y\n",
    "\n",
    "\n",
    "gFunction = ot.PythonFunction(3, 2, mySimulator)\n",
    "x = [1.0] * 3  # Will be converted to a Point by SWIG\n",
    "print(\"x = \", x)\n",
    "y = gFunction(x)\n",
    "print(\"y = \", y)"
   ]
  },
  {
   "cell_type": "markdown",
   "id": "af8a2a87",
   "metadata": {
    "slideshow": {
     "slide_type": "slide"
    }
   },
   "source": [
    "## Other ways to implement a function\n",
    "\n",
    "We may also consider other ways to implement a function.\n",
    "\n",
    "| Class | Advantages | Drawbacks |\n",
    "|---|---|---|\n",
    "| `PythonFunction` | Flexible | Not always the fastest |\n",
    "| `SymbolicFunction` | Exact gradient (not always), fast (not always) | Limited features |\n",
    "\n",
    "**Table 3.** Comparison of Python and symbolic functions."
   ]
  },
  {
   "cell_type": "markdown",
   "id": "235a19f9",
   "metadata": {
    "slideshow": {
     "slide_type": "slide"
    }
   },
   "source": [
    "\n",
    "\n",
    "| Tool | Features | Pros/Cons | Link |\n",
    "|---|---|---|---|\n",
    "| Otwrapy | Multithread, distributed evaluation | Can be fast, depending on the situation | [doc](https://openturns.github.io/otwrapy/master/)|\n",
    "| Autograd | Automatic differentiation | Not always possible | [doc](https://github.com/HIPS/autograd) |\n",
    "| Jax | Automatic differentiation | Not always possible | [doc](https://github.com/google/jax) |\n",
    "| `coupling_tools` | Connect to an external program using files | Slow (depends on the speed of the disk) | [doc](https://openturns.github.io/openturns/latest/developer_guide/wrapper_development.html) |\n",
    "\n",
    "**Table 4.** Tools to consider when using a Python function.\n",
    "\n",
    "More details :\n",
    "- See `Coupling Tools.ipynb` in this repository for details on `coupling_tools`.\n",
    "- More details on `Otwrapy` and `Jax` latex in the slides."
   ]
  },
  {
   "cell_type": "markdown",
   "id": "6e7bd6e1",
   "metadata": {
    "slideshow": {
     "slide_type": "slide"
    }
   },
   "source": [
    "## Benchmark\n",
    "\n",
    "We consider the function $g : \\mathbb{R}^3 \\rightarrow \\mathbb{R}^2$:\n",
    "$$\n",
    "\\begin{aligned}\n",
    "    y_0 &= x_1 + x_2 + x_3 \\\\\n",
    "    y_1 &= x_1 - x_2 x_3\n",
    "\\end{aligned}\n",
    "$$\n",
    "for any $\\boldsymbol{x}\\in \\mathbb{R}^3$. \n",
    "\n",
    "- The input distribution has $\\mathcal{N}(0,1)$ independent marginals : generating the input sample is fast. \n",
    "- We call the `getSample()` method of the output random vector. \n",
    "- The evaluation is relatively fast.\n",
    "- The vectorization is achieved using the `func_sample` keyword and the `numpy` library. "
   ]
  },
  {
   "cell_type": "markdown",
   "id": "ff894995",
   "metadata": {
    "slideshow": {
     "slide_type": "slide"
    }
   },
   "source": [
    "![Python benchmark](../images/wrapper-python-benchmark.png)\n",
    "\n",
    "**Figure 2.** A benchmark of two Python functions vs a symbolic function (see `python_benchmark.py`).\n",
    "\n",
    "We see that, on this example, the two fastest methods are the symbol function and the vectorised Python functions. "
   ]
  },
  {
   "cell_type": "markdown",
   "id": "bd4bfe84",
   "metadata": {
    "slideshow": {
     "slide_type": "slide"
    }
   },
   "source": [
    "Comments :\n",
    "\n",
    "- See also the benchmark available [in the doc](https://openturns.github.io/openturns/latest/developer_guide/wrapper_development.html#performance-considerations).\n",
    "\n",
    "- The performance of the symbolic function may depend on the backend `ExprTk` or `MuParser`. This can be configured using the `SymbolicParser-Backend` key of the `ResourceMap`."
   ]
  },
  {
   "cell_type": "code",
   "execution_count": 3,
   "id": "61d56737",
   "metadata": {},
   "outputs": [],
   "source": [
    "ot.ResourceMap.Set(\"SymbolicParser-Backend\", \"ExprTk\")  # The default\n",
    "ot.ResourceMap.Set(\"SymbolicParser-Backend\", \"MuParser\")"
   ]
  },
  {
   "cell_type": "markdown",
   "id": "1a0465b2",
   "metadata": {
    "slideshow": {
     "slide_type": "slide"
    }
   },
   "source": [
    "## How can PythonFunction be made fast?\n",
    "\n",
    "The `PythonFunction` is based on the `OpenTURNSPythonFunction` than we will present later in the slides.\n",
    "\n",
    "Depending on the `func_sample` and `n_cpus` options, we can make the evaluation faster. \n",
    "- `func_sample`: evaluate the function on a `Sample` instead of a `Point` to vectorize the evaluations ;\n",
    "- `n_cpus`: uses `multiprocessing` to make the evaluations parallel."
   ]
  },
  {
   "cell_type": "markdown",
   "id": "091924f3",
   "metadata": {
    "slideshow": {
     "slide_type": "slide"
    }
   },
   "source": [
    "Here are different cases, depending the options specified by the user:\n",
    "- If `func_sample` is undefined and `n_cpus` is undefined (i.e. the default), then the user-provided `func` function is used. It is not made parallel by OpenTURNS (but the user can do so).  \n",
    "- If `func_sample` is undefined and `n_cpus` is defined, then the implementation uses `multiprocessing`'s `Pool` to make the evaluation parallel (see [`_exec_sample_multiprocessing_func`](https://github.com/openturns/openturns/blob/18146c0a82819c3f8d8e691a119a93c155429422/python/src/Function.i#L213))\n",
    "- If `func_sample` and `n_cpus` are both defined, then the implementation uses divides the `Sample` into sub-samples which are evaluated in parallel (see [`_exec_sample_multiprocessing_func_sample`](https://github.com/openturns/openturns/blob/18146c0a82819c3f8d8e691a119a93c155429422/python/src/Function.i#L282)). "
   ]
  },
  {
   "cell_type": "markdown",
   "id": "0da7c110",
   "metadata": {
    "slideshow": {
     "slide_type": "slide"
    }
   },
   "source": [
    "## What is the memoryview class?\n",
    "\n",
    "The `memoryview` object is the type of object we receive as input to a `PythonFunction`.\n",
    "\n",
    "This class provides a lightweight object which prevent unnecessary object copies which can make the evaluation slower. "
   ]
  },
  {
   "cell_type": "code",
   "execution_count": 4,
   "id": "b05f7d0e",
   "metadata": {
    "slideshow": {
     "slide_type": "-"
    }
   },
   "outputs": [
    {
     "name": "stdout",
     "output_type": "stream",
     "text": [
      "x =  [1.0, 1.0, 1.0]\n",
      "Type of x :  <class 'openturns.memoryview.Buffer'>\n",
      "y =  [3,0]\n"
     ]
    }
   ],
   "source": [
    "def mySimulator(x):\n",
    "    print(\"Type of x : \", type(x))\n",
    "    # dimension = x.getDimension()  # Fail\n",
    "    y0 = x[0] + x[1] + x[2]\n",
    "    y1 = x[0] - x[1] * x[2]\n",
    "    y = [y0, y1]\n",
    "    return y\n",
    "\n",
    "\n",
    "gFunction = ot.PythonFunction(3, 2, mySimulator)\n",
    "x = [1.0] * 3\n",
    "print(\"x = \", x)\n",
    "y = gFunction(x)\n",
    "print(\"y = \", y)"
   ]
  },
  {
   "cell_type": "markdown",
   "id": "ad3498e8",
   "metadata": {
    "slideshow": {
     "slide_type": "slide"
    }
   },
   "source": [
    "The method `x.getDimension()` fails:\n",
    "```\n",
    "AttributeError: 'openturns.memoryview.Buffer' object has no attribute 'getDimension'\n",
    "```\n",
    "\n",
    "From the [doc](https://openturns.github.io/openturns/latest/user_manual/_generated/openturns.PythonFunction.html#):\n",
    "\n",
    "*\"For efficiency reasons, these functions do not receive a `Point` or `Sample` as arguments, but a proxy object which gives access to internal object data. This object supports indexing, but nothing more. It must be wrapped into another object, for instance `Point` in `func` and `Sample` in `func_sample`, or in a Numpy `array`, for vectorized operations.\"*"
   ]
  },
  {
   "cell_type": "markdown",
   "id": "237e66dd",
   "metadata": {
    "slideshow": {
     "slide_type": "slide"
    }
   },
   "source": [
    "If we have to , we can convert the `memoryview` into a `Point`: this can make the evaluation slower, but can be necessary in some situations."
   ]
  },
  {
   "cell_type": "code",
   "execution_count": 5,
   "id": "dc41ddfb",
   "metadata": {
    "slideshow": {
     "slide_type": "-"
    }
   },
   "outputs": [
    {
     "name": "stdout",
     "output_type": "stream",
     "text": [
      "Type of x :  <class 'openturns.typ.Point'>\n"
     ]
    },
    {
     "data": {
      "text/html": [
       "<p>[3,0]</p>"
      ],
      "text/plain": [
       "class=Point name=Unnamed dimension=2 values=[3,0]"
      ]
     },
     "execution_count": 5,
     "metadata": {},
     "output_type": "execute_result"
    }
   ],
   "source": [
    "def mySimulator(x):\n",
    "    x = ot.Point(x)  # Convert to Point, but only if necessary\n",
    "    print(\"Type of x : \", type(x))\n",
    "    dimension = x.getDimension()  # Ok\n",
    "    y0 = 0.0\n",
    "    for i in range(dimension):\n",
    "        y0 += x[i]\n",
    "    y1 = x[0] - x[1] * x[2]\n",
    "    y = [y0, y1]\n",
    "    return y\n",
    "\n",
    "\n",
    "gFunction = ot.PythonFunction(3, 2, mySimulator)\n",
    "x = [1.0] * 3\n",
    "gFunction(x)"
   ]
  },
  {
   "cell_type": "markdown",
   "id": "73d5c62d",
   "metadata": {
    "slideshow": {
     "slide_type": "slide"
    }
   },
   "source": [
    "## What is the ParametricFunction for?\n",
    "\n",
    "There are some cases when we want to create a function which has parameters. The `ParametricFunction` can be considered when the parameters is a vector of points:\n",
    "\n",
    "- to perform [Calibration using least squares](https://openturns.github.io/openturns/latest/auto_calibration/least_squares_and_gaussian_calibration/plot_calibration_deflection_tube.html#sphx-glr-auto-calibration-least-squares-and-gaussian-calibration-plot-calibration-deflection-tube-py) : the parameter to calibrate is the parameter of the `ParametricFunction` ;\n",
    "- to perform [Bayesian calibration](https://openturns.github.io/openturns/latest/auto_calibration/bayesian_calibration/plot_bayesian_calibration_flooding.html) : the input of the `ParametricFunction` function is the parameter for which we want the *posterior* distribution ;\n",
    "- to solve optimization problems with a parametric function (which avoids to create a new function each time the parameters change) ;\n",
    "- etc.\n",
    "\n",
    "We consider here the Ishigami test function.\n",
    "\n",
    "### References\n",
    "\n",
    "- Ishigami, T., Homma, T. (1990, December). An importance quantification technique in uncertainty analysis for computer models. In Uncertainty Modeling and Analysis, 1990. Proceedings., First International Symposium on (pp. 398-403). IEEE."
   ]
  },
  {
   "cell_type": "code",
   "execution_count": 6,
   "id": "03f92efa",
   "metadata": {
    "slideshow": {
     "slide_type": "slide"
    }
   },
   "outputs": [
    {
     "name": "stdout",
     "output_type": "stream",
     "text": [
      "[5.67865]\n"
     ]
    }
   ],
   "source": [
    "def ishigami(x):\n",
    "    x0, x1, x2, a, b = x\n",
    "    y0 = np.sin(x0) + a * np.sin(x1) ** 2 + b * x2**4 * np.sin(x0)\n",
    "    y = [y0]\n",
    "    return y\n",
    "\n",
    "\n",
    "gFunctionFull = ot.PythonFunction(5, 1, ishigami)\n",
    "a = 7.0\n",
    "b = 0.1\n",
    "xFull = [0.5, 1.0, 1.5, a, b]\n",
    "y = gFunctionFull(xFull)\n",
    "print(y)"
   ]
  },
  {
   "cell_type": "markdown",
   "id": "06bb3267",
   "metadata": {},
   "source": [
    "To propage the uncertainty through the Ishigami function, we can set the parameters $a$ and $b$, so that the function only has `(x1, x2, x3)` as input.\n",
    "\n",
    "Please use the [Ishigami](https://openturns.github.io/openturns/latest/usecases/use_case_ishigami.html) from the library for real simulations."
   ]
  },
  {
   "cell_type": "markdown",
   "id": "faab65b3",
   "metadata": {
    "slideshow": {
     "slide_type": "slide"
    }
   },
   "source": [
    "The next table presents the mapping from the variable name to its index. Notice that Python have indices that start from 0. The `gFunctionFull` function has no parameters. \n",
    "\n",
    "| Input variable | Input index |\n",
    "|---|---|\n",
    "| $x_1$ | 0 |\n",
    "| $x_2$ | 1 |\n",
    "| $x_3$ | 2 |\n",
    "| $a$ | 3 |\n",
    "| $b$ | 4 |\n",
    "\n",
    "| Parameter | Parameter index |\n",
    "|---|---|\n",
    "| ∅ | ∅ |\n",
    "\n",
    "**Table 5.** Input variables and parameters of the (full) `gFunctionFull` function."
   ]
  },
  {
   "cell_type": "code",
   "execution_count": 7,
   "id": "f54ebb1a",
   "metadata": {
    "slideshow": {
     "slide_type": "slide"
    }
   },
   "outputs": [
    {
     "name": "stdout",
     "output_type": "stream",
     "text": [
      "[5.67865]\n"
     ]
    }
   ],
   "source": [
    "indices = [3, 4]\n",
    "referencePoint = [a, b]\n",
    "gFunction = ot.ParametricFunction(gFunctionFull, indices, referencePoint)\n",
    "x = [0.5, 1.0, 1.5]\n",
    "y = gFunction(x)\n",
    "print(y)"
   ]
  },
  {
   "cell_type": "markdown",
   "id": "0675c6a9",
   "metadata": {
    "slideshow": {
     "slide_type": "-"
    }
   },
   "source": [
    "Manage parameters:\n",
    "\n",
    "- We can use the `setParameter()` to set the parameters (and `getParameter()` to get them). \n",
    "- The `parameterGradient()` returns the gradient of the function with respect to the parameters. "
   ]
  },
  {
   "cell_type": "code",
   "execution_count": 8,
   "id": "8b2d46e5",
   "metadata": {},
   "outputs": [
    {
     "name": "stdout",
     "output_type": "stream",
     "text": [
      "[7,0.1]\n",
      "[8,0.2]\n"
     ]
    }
   ],
   "source": [
    "print(gFunction.getParameter())\n",
    "gFunction.setParameter([8.0, 0.2])\n",
    "print(gFunction.getParameter())"
   ]
  },
  {
   "cell_type": "markdown",
   "id": "dd82fca6",
   "metadata": {
    "slideshow": {
     "slide_type": "slide"
    }
   },
   "source": [
    "The next table present the inputs and parameters of the parametric `gFunction` function. It has 3 inputs and 2 parameters.\n",
    "\n",
    "\n",
    "| Input variable | Input index |\n",
    "|---|---|\n",
    "| $x_1$ | 0 |\n",
    "| $x_2$ | 1 |\n",
    "| $x_3$ | 2 |\n",
    "\n",
    "\n",
    "| Parameter | Parameter index |\n",
    "|---|---|\n",
    "| $a$ | 0 |\n",
    "| $b$ | 1 |\n",
    "\n",
    "**Table 6.** Input variables and parameters of the (parametric) `gFunction` function.\n"
   ]
  },
  {
   "cell_type": "markdown",
   "id": "04663349",
   "metadata": {
    "slideshow": {
     "slide_type": "slide"
    }
   },
   "source": [
    "## Why is the OpenTURNSPythonFunction class most powerful?\n",
    "\n",
    "When the parameters cannot be stored as a single `Point`, we need a more powerful tool: the `OpenTURNSPythonFunction` class provides a way to implement a class so that we can provide any necessary parameter (whatever its type) to the evaluation. \n",
    "- The constructor of the object can have any number or type of input arguments, as any `Class` object in Python.\n",
    "- The calculations which are done in the constructor are done *\"once for all\"* at the creation of the object, which can make some calculations faster. "
   ]
  },
  {
   "cell_type": "code",
   "execution_count": 9,
   "id": "93e1ee08",
   "metadata": {
    "slideshow": {
     "slide_type": "slide"
    }
   },
   "outputs": [],
   "source": [
    "class IshigamiFunction(ot.OpenTURNSPythonFunction):\n",
    "    def __init__(self, a, b):\n",
    "        super().__init__(3, 1)\n",
    "        self.a = a\n",
    "        self.b = b\n",
    "\n",
    "    def _exec(self, x):\n",
    "        y0 = (\n",
    "            np.sin(x[0])\n",
    "            + self.a * np.sin(x[1]) ** 2\n",
    "            + self.b * x[2] ** 4 * np.sin(x[0])\n",
    "        )\n",
    "        return [y0]"
   ]
  },
  {
   "cell_type": "code",
   "execution_count": 10,
   "id": "21f395d8",
   "metadata": {
    "slideshow": {
     "slide_type": "slide"
    }
   },
   "outputs": [
    {
     "name": "stdout",
     "output_type": "stream",
     "text": [
      "[5.67865]\n"
     ]
    }
   ],
   "source": [
    "a = 7.0\n",
    "b = 0.1\n",
    "ishigamiFunction = IshigamiFunction(a, b)  # Create the object\n",
    "gFunction = ot.Function(ishigamiFunction)  # Convert to a Function\n",
    "x = [0.5, 1.0, 1.5]\n",
    "y = gFunction(x)\n",
    "print(y)"
   ]
  },
  {
   "cell_type": "markdown",
   "id": "0855635b",
   "metadata": {},
   "source": [
    "Other examples:\n",
    "- in the PRACE training [a wrapper to the cantilever beam](https://github.com/mbaudin47/hpcuqtraining/blob/773ddaed56339ddb548f82a2ff16bfcf5c00be2c/2019/Scripts/wrapper.py) ;\n",
    "- in otbenchmark, the [Dirichlet](https://github.com/mbaudin47/otbenchmark/blob/f33a9c6694cc0bb3e2680164519b82e9f2983977/otbenchmark/DirichletSensitivity.py) test function for sensitivity analysis ;\n",
    "- in otbenchmark, the [flooding](https://github.com/mbaudin47/otbenchmark/blob/f33a9c6694cc0bb3e2680164519b82e9f2983977/examples/scripts/testCrue-classeOTPFun.py) test case ;\n",
    "- in otbenchmark, the [Morris](https://github.com/mbaudin47/otbenchmark/blob/f33a9c6694cc0bb3e2680164519b82e9f2983977/otbenchmark/MorrisSensitivity.py) test function."
   ]
  },
  {
   "cell_type": "markdown",
   "id": "68fb20f2",
   "metadata": {
    "slideshow": {
     "slide_type": "slide"
    }
   },
   "source": [
    "## Otwrapy\n",
    "\n",
    "The `otwrapy` package (available at [github](https://github.com/openturns/otwrapy)) provides a `Parallelizer` class that converts any `ot.Function` into a parallel wrapper using either `multiprocessing`, `ipyparallel`, `joblib` or `pathos`.\n",
    "\n",
    "See the [slides](https://felipeam86.github.io/HPC-Uncertainties-PRACE/)  from Felipe Aguirre Martinez for Otwrapy details.\n",
    "\n",
    "To install `otwrapy`, use conda ([package](https://anaconda.org/conda-forge/otwrapy)):\n",
    "```bash\n",
    "$ conda install -c conda-forge otwrapy\n",
    "```\n",
    "\n",
    "The `Parallelizer` class parallelize a `Function`:\n",
    "```python\n",
    "import otwrapy as otw\n",
    "from otwrapy.examples.beam import Wrapper\n",
    "parallelized_beam_wrapper = otw.Parallelizer(Wrapper())\n",
    "```"
   ]
  },
  {
   "cell_type": "markdown",
   "id": "28f38121",
   "metadata": {
    "slideshow": {
     "slide_type": "slide"
    }
   },
   "source": [
    "![Python benchmark](../images/benchmark_Morris_otwrapy.png)\n",
    "\n",
    "**Figure 2.** A benchmark of Morris function from `otmorris` using `otwrapy` (see `benchmark_Morris_otwrapy.py`).\n",
    "\n",
    "We see that, on this example, the \"joblib\" backend improves the performance when the number of CPUs is in the range $[4, 6]$. Using more CPUs decreases the performance."
   ]
  },
  {
   "cell_type": "markdown",
   "id": "4d040418",
   "metadata": {
    "slideshow": {
     "slide_type": "slide"
    }
   },
   "source": [
    "## Jax\n",
    "\n",
    "[Jax](https://github.com/google/jax) is the new [Autograd](https://github.com/HIPS/autograd). \n",
    "\n",
    "- can automatically differentiate native Python and NumPy code.\n",
    "- uses XLA to compile and run your NumPy programs on GPUs and TPUs.\n",
    "- can differentiate through loops, branches, recursion, and closures, and it can take derivatives of derivatives of derivatives.\n",
    "- supports reverse-mode differentiation (a.k.a. backpropagation) via grad as well as forward-mode differentiation, and the two can be composed arbitrarily to any order.\n",
    "\n",
    "Three main functions:\n",
    "\n",
    "- `jit()`: speeding up your code,\n",
    "- `grad()`: taking derivatives,\n",
    "- `vmap()`: automatic vectorization or batching."
   ]
  },
  {
   "cell_type": "markdown",
   "id": "75d61196",
   "metadata": {
    "slideshow": {
     "slide_type": "slide"
    }
   },
   "source": [
    "From the [Quickstart](https://jax.readthedocs.io/en/latest/notebooks/quickstart.html) :\n",
    "\n",
    "```python\n",
    "import jax.numpy as jnp\n",
    "from jax import grad, jit, vmap\n",
    "\n",
    "def sum_logistic(x):\n",
    "  return jnp.sum(1.0 / (1.0 + jnp.exp(-x)))\n",
    "\n",
    "x_small = jnp.arange(3.)\n",
    "derivative_fn = grad(sum_logistic)\n",
    "print(derivative_fn(x_small))\n",
    "```"
   ]
  },
  {
   "cell_type": "markdown",
   "id": "5a45eabc",
   "metadata": {
    "slideshow": {
     "slide_type": "slide"
    }
   },
   "source": [
    "## Other Python objects\n",
    "\n",
    "| Class | Purpose | Link |\n",
    "|---|---|---|\n",
    "| PythonRandomVector | Simulate a random vector | [Link](https://openturns.github.io/openturns/latest/user_manual/_generated/openturns.PythonRandomVector.html) |\n",
    "| PythonDistribution | Define a distribution | [Link](https://openturns.github.io/openturns/latest/user_manual/_generated/openturns.PythonDistribution.html)|\n",
    "\n",
    "**Table 6.** Other Python objects.\n"
   ]
  },
  {
   "cell_type": "markdown",
   "id": "37fb6654",
   "metadata": {
    "slideshow": {
     "slide_type": "slide"
    }
   },
   "source": [
    "## PythonRandomVector\n",
    "\n",
    "The `PythonRandomVector` class can be used to implement the `getRealization()` method for an object for which the distribution is not necessarily known. \n",
    "\n",
    "Other examples:\n",
    "- implement a [NormalTruncatedToBall](https://github.com/openturns/openturns.github.io/blob/df983978484029a0b9571ca7539483837e8c193f/openturns/1.18/pyplots/PythonRandomVector.py)\n",
    "- simulate a [Markov chain](https://github.com/mbaudin47/otmarkov/blob/efe3c4e9eda2e10d6103ccc028d7518c0d82468d/otmarkov/MarkovChainRandomVector.py)\n",
    "- implement a [BoxConstrainedNormal](https://openturns.github.io/openturns/latest/auto_calibration/bayesian_calibration/plot_gibbs_simus.html)"
   ]
  },
  {
   "cell_type": "markdown",
   "id": "b0c6ee4a",
   "metadata": {
    "slideshow": {
     "slide_type": "slide"
    }
   },
   "source": [
    "We would like to estimate the PDF of the biased sample variance."
   ]
  },
  {
   "cell_type": "code",
   "execution_count": 11,
   "id": "cec0b1aa",
   "metadata": {},
   "outputs": [],
   "source": [
    "class BiasedSampleVariance(ot.PythonRandomVector):\n",
    "    def __init__(self, distribution, sample_size):\n",
    "        super().__init__(1)\n",
    "        self.setDescription([\"$\\hat{\\sigma}^2_{%d}$\" % (sample_size)])\n",
    "        self.sample_size = sample_size\n",
    "        dimension = distribution.getDimension()\n",
    "        self.distribution = distribution\n",
    "\n",
    "    def getRealization(self):\n",
    "        sample = self.distribution.getSample(self.sample_size)\n",
    "        sample_variance = sample.computeCenteredMoment(2)[0]\n",
    "        return [sample_variance]"
   ]
  },
  {
   "cell_type": "code",
   "execution_count": 12,
   "id": "1fa54f42",
   "metadata": {
    "slideshow": {
     "slide_type": "slide"
    }
   },
   "outputs": [
    {
     "data": {
      "image/png": "[encoded data removed]",
      "text/plain": [
       "<Figure size 288x216 with 1 Axes>"
      ]
     },
     "metadata": {
      "needs_background": "light"
     },
     "output_type": "display_data"
    }
   ],
   "source": [
    "def plot_sample_by_kernel_smoothing(distribution, sample_size, repetitions_size):\n",
    "    myRV = ot.RandomVector(BiasedSampleVariance(distribution, sample_size))\n",
    "    sample_variance = myRV.getSample(repetitions_size)\n",
    "\n",
    "    graph = ot.KernelSmoothing().build(sample_variance).drawPDF()\n",
    "    graph.setLegends([\"Sample\"])\n",
    "    name = distribution.getClassName()\n",
    "    graph.setTitle(\"%s, Size = %d, Rep. = %d\" % (name, sample_size, repetitions_size))\n",
    "    return graph\n",
    "\n",
    "\n",
    "repetitions_size = 10000\n",
    "view = otv.View(\n",
    "    plot_sample_by_kernel_smoothing(ot.LogNormal(), 10, repetitions_size),\n",
    "    figure_kw={\"figsize\": (4.0, 3.0)},\n",
    ")"
   ]
  },
  {
   "cell_type": "markdown",
   "id": "345ea48e",
   "metadata": {
    "slideshow": {
     "slide_type": "slide"
    }
   },
   "source": [
    "## PythonDistribution\n",
    "\n",
    "The `PythonDistribution` class defines a distribution. \n",
    "\n",
    "The two mandatory methods are:\n",
    "- `getRange()`;\n",
    "- `computePDF()`.\n",
    "\n",
    "Implementing other methods can improve speed and accuracy."
   ]
  },
  {
   "cell_type": "markdown",
   "id": "fed457d7",
   "metadata": {
    "slideshow": {
     "slide_type": "slide"
    }
   },
   "source": [
    "We would like to easily see the asymptotic distribution of the sample variance."
   ]
  },
  {
   "cell_type": "code",
   "execution_count": 13,
   "id": "b9a8a66c",
   "metadata": {},
   "outputs": [],
   "source": [
    "class SampleVarianceAsymptoticDistribution(ot.PythonDistribution):\n",
    "    def __init__(self, distribution, sample_size):\n",
    "        super().__init__(1)\n",
    "        self.distribution = distribution\n",
    "        self.sample_size = sample_size\n",
    "        asymptotic_mean = self.distribution.getCenteredMoment(2)[0]\n",
    "        asymptotic_variance = (\n",
    "            self.distribution.getCenteredMoment(4)[0] - asymptotic_mean**2\n",
    "        )\n",
    "        asymptotic_sd = np.sqrt(asymptotic_variance) / np.sqrt(self.sample_size)\n",
    "        self.asymptotic_distribution = ot.Normal(asymptotic_mean, asymptotic_sd)\n",
    "\n",
    "    def computePDF(self, x):\n",
    "        y = self.asymptotic_distribution.computePDF(x)\n",
    "        return y\n",
    "\n",
    "    def computeCDF(self, x):\n",
    "        y = self.asymptotic_distribution.computeCDF(x)\n",
    "        return y\n",
    "\n",
    "    def getRange(self):\n",
    "        return self.asymptotic_distribution.getRange()"
   ]
  },
  {
   "cell_type": "code",
   "execution_count": 14,
   "id": "a4634ecc",
   "metadata": {
    "slideshow": {
     "slide_type": "slide"
    }
   },
   "outputs": [
    {
     "data": {
      "image/png": "[encoded data removed]",
      "text/plain": [
       "<Figure size 288x216 with 1 Axes>"
      ]
     },
     "metadata": {
      "needs_background": "light"
     },
     "output_type": "display_data"
    }
   ],
   "source": [
    "asymptoticDistribution = SampleVarianceAsymptoticDistribution(\n",
    "    ot.LogNormal(), 640\n",
    ")  # Create the object\n",
    "distribution = ot.Distribution(asymptoticDistribution)  # Convert to Distribution\n",
    "graph = distribution.drawPDF()\n",
    "graph.setTitle(\"Asymptotic distribution of the sample variance. LogNormal, n = 640\")\n",
    "graph.setLegends([\"\"])\n",
    "graph.setXTitle(\"$\\hat{\\sigma}_{640}^2$\")\n",
    "view = otv.View(\n",
    "    graph,\n",
    "    figure_kw={\"figsize\": (4.0, 3.0)},\n",
    ")"
   ]
  },
  {
   "cell_type": "markdown",
   "id": "f025f20a",
   "metadata": {
    "slideshow": {
     "slide_type": "slide"
    }
   },
   "source": [
    "## What's next?\n",
    "\n",
    "Please consider the exercises in this repository:\n",
    "\n",
    "- `Python_function_exercises.ipynb` : exercises on `PythonFunction` ;\n",
    "- `Coupling_tools.ipynb`: on `coupling_tools` sub-module to connect to an external program using files ;\n",
    "- `Parametric_function.ipynb`: exercises on `ParametricFunction` and `OpenTURNSPythonFunction` ;\n",
    "- `Symbolic_function.ipynb`: exercises on `SymbolicFunction`.\n",
    "- `python_benchmark.py`: a benchmark with Python functions."
   ]
  },
  {
   "cell_type": "code",
   "execution_count": null,
   "id": "87d831f5",
   "metadata": {},
   "outputs": [],
   "source": []
  }
 ],
 "metadata": {
  "celltoolbar": "Diaporama",
  "kernelspec": {
   "display_name": "Python 3 (ipykernel)",
   "language": "python",
   "name": "python3"
  },
  "language_info": {
   "codemirror_mode": {
    "name": "ipython",
    "version": 3
   },
   "file_extension": ".py",
   "mimetype": "text/x-python",
   "name": "python",
   "nbconvert_exporter": "python",
   "pygments_lexer": "ipython3",
   "version": "3.9.13"
  }
 },
 "nbformat": 4,
 "nbformat_minor": 5
}
