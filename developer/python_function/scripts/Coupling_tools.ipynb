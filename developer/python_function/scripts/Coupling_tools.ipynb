{
 "cells": [
  {
   "cell_type": "markdown",
   "metadata": {},
   "source": [
    "# Coupling Tools\n",
    "\n",
    "**Coding party OpenTURNS, march 2023**\n",
    "\n",
    "_Michaël Baudin_\n"
   ]
  },
  {
   "cell_type": "markdown",
   "metadata": {},
   "source": [
    "## Résumé\n",
    "\n",
    "Dans cette page, nous présentons les fonctions du module `coupling_tools`, un module utile pour connecter un code de calcul fondé sur des échanges de fichiers texte. Nous présentons les principales fonctionnalités du module sur un exemple en particulier les fonctions `replace` et `get`."
   ]
  },
  {
   "cell_type": "markdown",
   "metadata": {},
   "source": [
    "## Références\n",
    "\n",
    "* http://openturns.github.io/openturns/master/developer_guide/wrapper_development.html\n"
   ]
  },
  {
   "cell_type": "markdown",
   "metadata": {},
   "source": [
    "## Principe\n",
    "\n",
    "Le module coupling_tools est utile lorsque le code de calcul lit (en entrée) et écrit (en sortie) des fichiers texte. \n",
    "\n",
    "<img src=\"images/wrapper_OT-coupling.svg\" width=\"600px\">"
   ]
  },
  {
   "cell_type": "markdown",
   "metadata": {},
   "source": [
    "## Fonctionnalités\n",
    "\n",
    "Principales fonctions du module `coupling_tools` :\n",
    "* `replace` : écrire un fichier d’entrée à partir d’un modèle, en remplaçant des balises par des valeurs\n",
    "* `execute` : exécuter un code de calcul externe\n",
    "* `get` (et `get_line_col`) : lire des valeurs à partir d’un fichier de sortie.\n",
    "\n",
    "Au-delà\n",
    "* Le module `coupling_tools` peut être utile en dehors d’OpenTURNS.\n",
    "* Exemple : « scripter » l’évaluation d’un plan d’expériences sur un serveur de calcul (cluster)."
   ]
  },
  {
   "cell_type": "markdown",
   "metadata": {},
   "source": [
    "## Objectifs, Avantages, Inconvénients\n",
    "\n",
    "Les objectifs du module sont :\n",
    "* Lire/écrire des fichiers texte structurés (exemple : Code_Aster).\n",
    "* Simplicité : plus facile que les expressions régulières.\n",
    "* Sauter des lignes, des colonnes, des blocs de texte.\n",
    "\n",
    "Avantages :\n",
    "* Utile si les données d’entrée sont sous forme de fichier texte structuré.\n",
    "\n",
    "Inconvénients :\n",
    "* Facile à paralléliser, avec un peu plus de code Python (contacter si besoin)."
   ]
  },
  {
   "cell_type": "markdown",
   "metadata": {},
   "source": [
    "## Exemple\n",
    "\n",
    "On a le code de calcul externe implémenté dans le script `external_program.py`. Ce programme :\n",
    "* lit le fichier `\"input.py\"`,\n",
    "* réalise le calcul et évalue la sortie,\n",
    "* écrit le fichier `\"output.txt\"`.\n",
    "\n",
    "La ligne de commande pour appeler le code est : \n",
    "```\n",
    "python external_program.py input.py\n",
    "```"
   ]
  },
  {
   "cell_type": "code",
   "execution_count": 1,
   "metadata": {},
   "outputs": [
    {
     "data": {
      "text/plain": [
       "'1.19'"
      ]
     },
     "execution_count": 1,
     "metadata": {},
     "output_type": "execute_result"
    }
   ],
   "source": [
    "import openturns as ot\n",
    "import openturns.coupling_tools as ct\n",
    "import os\n",
    "\n",
    "ot.__version__"
   ]
  },
  {
   "cell_type": "code",
   "execution_count": 2,
   "metadata": {},
   "outputs": [],
   "source": [
    "os.chdir(\"CouplingTools\")"
   ]
  },
  {
   "cell_type": "markdown",
   "metadata": {},
   "source": [
    "Observons le contenu du script `external_program.py`. "
   ]
  },
  {
   "cell_type": "code",
   "execution_count": 3,
   "metadata": {},
   "outputs": [
    {
     "name": "stdout",
     "output_type": "stream",
     "text": [
      "# -*- coding: utf-8 -*-\n",
      "# Copyright (C) - 2013 - Michael Baudin - EDF R&D\n",
      "\n",
      "# 1. Get input\n",
      "import sys\n",
      "\n",
      "inFile = sys.argv[1]\n",
      "exec(open(inFile).read())\n",
      "\n",
      "# 2. Compute\n",
      "Y0 = X0 + X1 + X2\n",
      "Y1 = X0 + X1 * X2\n",
      "\n",
      "# 3. Write output\n",
      "f = open(\"output.txt\", \"w\")\n",
      "f.write(\"Y0=%.17e\\n\" % (Y0))\n",
      "f.write(\"Y1=%.17e\\n\" % (Y1))\n",
      "f.close()\n",
      "\n"
     ]
    }
   ],
   "source": [
    "f = open(\"external_program.py\", \"r\")\n",
    "print(f.read())"
   ]
  },
  {
   "cell_type": "markdown",
   "metadata": {},
   "source": [
    "Observons le contenu du script `input.py` : le contenu est formatté en Python, pour faciliter la lecture. "
   ]
  },
  {
   "cell_type": "code",
   "execution_count": 4,
   "metadata": {},
   "outputs": [
    {
     "name": "stdout",
     "output_type": "stream",
     "text": [
      "# -*- coding: utf-8 -*-\n",
      "# Copyright (C) - 2013 - Michael Baudin - EDF R&D\n",
      "\n",
      "X0 = 1.2\n",
      "X1 = 45\n",
      "X2 = 91.8\n",
      "\n"
     ]
    }
   ],
   "source": [
    "f = open(\"input.py\", \"r\")\n",
    "print(f.read())"
   ]
  },
  {
   "cell_type": "markdown",
   "metadata": {},
   "source": [
    "Le contenu du fichier `output.txt` est formatté de manière très simple."
   ]
  },
  {
   "cell_type": "code",
   "execution_count": 5,
   "metadata": {},
   "outputs": [
    {
     "name": "stdout",
     "output_type": "stream",
     "text": [
      "Y0=1.38000000000000000e+02\n",
      "Y1=4.13219999999999982e+03\n",
      "\n"
     ]
    }
   ],
   "source": [
    "f = open(\"output.txt\", \"r\")\n",
    "print(f.read())"
   ]
  },
  {
   "cell_type": "markdown",
   "metadata": {},
   "source": [
    "Le fichier `input_template.py` est un modèle (*\"template\"*) qui va servir à générer le fichier `\"input.py\"`. "
   ]
  },
  {
   "cell_type": "code",
   "execution_count": 6,
   "metadata": {},
   "outputs": [
    {
     "name": "stdout",
     "output_type": "stream",
     "text": [
      "# -*- coding: utf-8 -*-\n",
      "# Copyright (C) - 2013 - Michael Baudin - EDF R&D\n",
      "\n",
      "X0=@X0\n",
      "X1=@X1\n",
      "X2=@X2\n",
      "\n"
     ]
    }
   ],
   "source": [
    "f = open(\"input_template.txt\", \"r\")\n",
    "print(f.read())"
   ]
  },
  {
   "cell_type": "markdown",
   "metadata": {},
   "source": [
    "Le wrapper est implémenté ainsi : on fait d'abord appel à `replace` pour générer le fichier d'entrée, puis on appelle le code de calcul externe par une commande système avec la méthode `execute` et enfin on lit le fichier de sortie avec la méthode `get`."
   ]
  },
  {
   "cell_type": "code",
   "execution_count": 7,
   "metadata": {},
   "outputs": [],
   "source": [
    "def mySimulator(X):\n",
    "    # 1. Create input file\n",
    "    infile = \"input_template.txt\"\n",
    "    outfile = \"input.py\"\n",
    "    tokens = [\"@X0\", \"@X1\", \"@X2\"]\n",
    "    ct.replace(infile, outfile, tokens, X)\n",
    "    # 2. Compute\n",
    "    program = \"python external_program.py\"\n",
    "    cmd = program + \" \" + outfile\n",
    "    ct.execute(cmd)\n",
    "    # 3. Parse output file\n",
    "    Y = ct.get(\"output.txt\", tokens=[\"Y0=\", \"Y1=\"])\n",
    "    return Y\n",
    "\n",
    "\n",
    "myWrapper = ot.PythonFunction(3, 2, mySimulator)"
   ]
  },
  {
   "cell_type": "code",
   "execution_count": 8,
   "metadata": {},
   "outputs": [
    {
     "data": {
      "text/html": [
       "<p>[138,4132.2]</p>"
      ],
      "text/plain": [
       "class=Point name=Unnamed dimension=2 values=[138,4132.2]"
      ]
     },
     "execution_count": 8,
     "metadata": {},
     "output_type": "execute_result"
    }
   ],
   "source": [
    "X = [1.2, 45, 91.8]\n",
    "Y = myWrapper(X)\n",
    "Y"
   ]
  },
  {
   "cell_type": "markdown",
   "metadata": {},
   "source": [
    "## Présentation de l'API\n",
    "\n",
    "Rentrons un peu plus dans le détail des fonctions.\n",
    "\n",
    "### Ecriture du fichier d'entrée : la fonction replace\n",
    "```\n",
    "replace (infile , outfile , tokens , values )\n",
    "```\n",
    "\n",
    "Paramètres :\n",
    "* `infile` une chaîne de caractères, le fichier modèle à mettre à jour.\n",
    "* `outfile` une chaîne de caractères, le fichier à écrire.\n",
    "* `tokens` une liste de N éléments, les expressions régulières à rechercher.\n",
    "* `values` une liste de N éléments (chaînes, flottants,etc...), les valeurs à remplacer."
   ]
  },
  {
   "cell_type": "code",
   "execution_count": 9,
   "metadata": {},
   "outputs": [],
   "source": [
    "X = [1.2, 45, 91.8]\n",
    "infile = \"input_template.txt\"\n",
    "outfile = \"input.py\"\n",
    "tokens = [\"@X0\", \"@X1\", \"@X2\"]\n",
    "ct.replace(infile, outfile, tokens, X)"
   ]
  },
  {
   "cell_type": "markdown",
   "metadata": {},
   "source": [
    "Pour voir le changement, il faut observer le contenu du script `input.py`."
   ]
  },
  {
   "cell_type": "code",
   "execution_count": 10,
   "metadata": {},
   "outputs": [
    {
     "name": "stdout",
     "output_type": "stream",
     "text": [
      "# -*- coding: utf-8 -*-\n",
      "# Copyright (C) - 2013 - Michael Baudin - EDF R&D\n",
      "\n",
      "X0=1.2\n",
      "X1=45\n",
      "X2=91.8\n",
      "\n"
     ]
    }
   ],
   "source": [
    "f = open(\"input.py\", \"r\")\n",
    "print(f.read())"
   ]
  },
  {
   "cell_type": "markdown",
   "metadata": {},
   "source": [
    "### Lecture du fichier de sortie : la fonction get\n",
    "\n",
    "Séquence d’appel :\n",
    "```Python\n",
    "# Recupere une liste de valeurs :\n",
    "Y = get (filename, tokens=None, skip_tokens=None , \\\n",
    "         skip_lines=None , skip_cols= None )\n",
    "# Recupere une seule valeur :\n",
    "Y = get_value(filename, token=None, skip_token=0, \\\n",
    "             skip_line=0, skip_col=0)\n",
    "```\n",
    "Paramètres :\n",
    "* `filename` une chaîne de caractères, le fichier à lire \n",
    "* `tokens` une liste de N éléments, les expressions régulières à rechercher.\n",
    "* `skip_tokens` une liste de N éléments, le nombre de jetons à ignorer avant de lire la valeur.\n",
    "* `skip_lines` une liste de N éléments, le nombre de lignes à ignorer avant le jeton.\n",
    "* `skip_cols` une liste de N éléments, le nombre de colonnes à ignorer avant le jeton.\n",
    "* `Y` une liste de doubles (pour `get`) ou un double (pour `get_value`)."
   ]
  },
  {
   "cell_type": "markdown",
   "metadata": {},
   "source": [
    "### Exemples d'utilisation de `get`\n",
    "\n",
    "Exemple avec saut de lignes/colonnes.\n",
    "\n",
    "Les trois premières lignes du fichier `results.txt` sont les suivantes :\n",
    "``` \n",
    "1 2 3 04 5 6\n",
    "7 8 9 10\n",
    "11 12 13 14\n",
    "```\n",
    "\n",
    "Objectif : Lire le 9.\n"
   ]
  },
  {
   "cell_type": "code",
   "execution_count": 11,
   "metadata": {
    "scrolled": true
   },
   "outputs": [
    {
     "data": {
      "text/plain": [
       "9.0"
      ]
     },
     "execution_count": 11,
     "metadata": {},
     "output_type": "execute_result"
    }
   ],
   "source": [
    "Y = ct.get_value(\"results.txt\", skip_line=1, skip_col=2)\n",
    "Y"
   ]
  },
  {
   "cell_type": "markdown",
   "metadata": {},
   "source": [
    "## otwrapy\n",
    "\n",
    "* Module Python développé par Phiméca (hors partenariat) en complément de coupling_tools\n",
    "* https://github.com/openturns/otwrapy\n",
    "* Distribution des calculs possible via différents modules Python : multiprocessing (Python Standard Library), ipyparallel ou joblib.\n",
    "* Autres fonctionnalités : gestion des erreurs, création d’un répertoire temporaire de travail, écriture/lecture d’échantillon dans un fichier compressé, ...\n"
   ]
  },
  {
   "cell_type": "markdown",
   "metadata": {},
   "source": [
    "## Autres modules\n",
    "\n",
    "Le langage Python, associé à sa librairie standard, est un langage de haut niveau très pratique et concis pour lire/écrire dans des fichiers, manipuler des chaînes de caractères ou lancer un processus (*thread*) ; si le module\n",
    "`coupling_tools` n’est pas adapté, ne pas oublier :\n",
    "* lecture fichiers texte : \n",
    "  * modules `re` (expressions régulières), \n",
    "  * méthodes `file.readline()`, \n",
    "  * `string.split()`, \n",
    "  * etc. ;\n",
    "* lecture fichier binaire HDF5 : module `h5py` (ou tables de `PyTables`) ;\n",
    "* lancement d’un calcul et parallélisme : modules `subprocess` et `multiprocessing`.\n"
   ]
  },
  {
   "cell_type": "markdown",
   "metadata": {},
   "source": [
    "## Exercices"
   ]
  },
  {
   "cell_type": "markdown",
   "metadata": {},
   "source": [
    "### Exercice 1\n",
    "\n",
    "* Quelles instructions Python \"naïves\" peut-on utiliser pour lire les valeurs X0, X1, X2 dans le fichier `input.py` ?\n",
    "\n",
    "* Dans le script `external_program.py`, pourquoi l'instruction suivante fonctionne-t-elle ?\n",
    "```Python\n",
    "exec(open(inFile).read())\n",
    "```"
   ]
  },
  {
   "cell_type": "markdown",
   "metadata": {},
   "source": [
    "### Solution de l'exercice 1\n",
    "\n",
    "Cette instruction fonctionne car le fichier \"input.py\" est un script Python. C'est pourquoi l'instruction `exec` exécute la chaîne de caractère retournée par `open(inFile).read()`. Utiliser un script Python comme fichier d'entrée évite de développer un *parser*, associée à un langage spécifique."
   ]
  },
  {
   "cell_type": "markdown",
   "metadata": {},
   "source": [
    "### Exercice 2\n",
    "\n",
    "Changer le nom des variables :\n",
    "* X0 -> X1\n",
    "* X1 -> X2\n",
    "* X2 -> X3\n",
    "\n",
    "et adapter les scripts (lesquels ?)."
   ]
  },
  {
   "cell_type": "markdown",
   "metadata": {},
   "source": [
    "### Exercice 3\n",
    "\n",
    "Le fichier `results.txt` contient les lignes suivantes :\n",
    "```\n",
    "1  2  3  04  5  6\n",
    "7  8  9  10\n",
    "11 12 13 14\n",
    "\n",
    "Y1= 11.11celcius\n",
    "Y2= -0.89\n",
    "Y1= 22.22\n",
    "Y1= 33.33\n",
    "\n",
    "line1: 100 101 102 \n",
    "line2: 200 201 202\n",
    "line3: 300 301 302\n",
    "```\n",
    "Comment utiliser la fonction `get_value` pour lire les valeurs\n",
    "suivantes dans le fichier results.txt ?\n",
    "* 11.11\n",
    "* 9.0\n",
    "* 201.0\n",
    "* 33.33\n",
    "* 22.22\n",
    "* 101.0\n",
    "* 300.0"
   ]
  },
  {
   "cell_type": "markdown",
   "metadata": {},
   "source": [
    "### Solution de l'exercice 3"
   ]
  },
  {
   "cell_type": "code",
   "execution_count": 12,
   "metadata": {},
   "outputs": [
    {
     "name": "stdout",
     "output_type": "stream",
     "text": [
      "(1) Y: 11.11\n",
      "(2) Y: 9.0\n",
      "(3) Y: 201.0\n",
      "(4) Y: 33.33\n",
      "(5) Y: 22.22\n",
      "(6) Y: 101.0\n",
      "(7) Y: 300.0\n"
     ]
    }
   ],
   "source": [
    "filename = \"results.txt\"\n",
    "# 1. search token, the value right after the token\n",
    "# is returned:\n",
    "Y = ct.get_value(filename, token=\"Y1=\")  # 11.11\n",
    "print(\"(1) Y:\", Y)\n",
    "\n",
    "# 2. skip lines and columns (useful for array search):\n",
    "Y = ct.get_value(filename, skip_line=1, skip_col=2)  # 9\n",
    "print(\"(2) Y:\", Y)\n",
    "\n",
    "# 3. skip lines and columns backward (be careful:\n",
    "# if there is an empty line at the end of the file,\n",
    "# it is taken into account. i.e. this last empty line\n",
    "# will be reached using skip\\_line=-1):\n",
    "Y = ct.get_value(filename, skip_line=-2, skip_col=-2)  # 201\n",
    "print(\"(3) Y:\", Y)\n",
    "\n",
    "# 4. search the 3rd appearance of the token:\n",
    "Y = ct.get_value(filename, token=\"Y1=\", skip_token=2)  # 33.33\n",
    "print(\"(4) Y:\", Y)\n",
    "\n",
    "# 5. search the 2nd appearance of the token from the end\n",
    "# of the file:\n",
    "Y = ct.get_value(filename, token=\"Y1=\", skip_token=-2)  # 22.22\n",
    "print(\"(5) Y:\", Y)\n",
    "\n",
    "# 6. search a token and then skip lines and columns from\n",
    "# this token:\n",
    "Y = ct.get_value(filename, token=\"Y1=\", skip_line=5, skip_col=-2)  # 101\n",
    "print(\"(6) Y:\", Y)\n",
    "\n",
    "# 7. search the 2nd token and then skip lines and columns\n",
    "# from this token:\n",
    "Y = ct.get_value(filename, token=\"Y1=\", skip_token=1, skip_line=5, skip_col=1)  # 300\n",
    "print(\"(7) Y:\", Y)"
   ]
  },
  {
   "cell_type": "markdown",
   "metadata": {},
   "source": [
    "### Exercice 4\n",
    "\n",
    "La fonction `get_line_col` permet de lire des valeurs numériques dans une ligne ou une colonne.\n",
    "\n",
    "Considérons le fichier get_line_col.txt :\n",
    "\n",
    "```\n",
    "0 \n",
    "1 \n",
    "2 \n",
    "3 \n",
    "4 \n",
    "5 \n",
    "6  ; 2. 3   59.\n",
    "7 \n",
    "8 \n",
    "9 \n",
    "10 \n",
    "\n",
    "```\n",
    "\n",
    "Utiliser la fonction `get_line_col` pour lire la valeur 59. \n",
    "\n",
    "Solution dans le script `get_line_col.py`"
   ]
  },
  {
   "cell_type": "markdown",
   "metadata": {},
   "source": [
    "### Solution de l'exercice 4"
   ]
  },
  {
   "cell_type": "code",
   "execution_count": 13,
   "metadata": {},
   "outputs": [
    {
     "name": "stdout",
     "output_type": "stream",
     "text": [
      "Y: 59.0\n"
     ]
    }
   ],
   "source": [
    "Y = ct.get_line_col(\"get_line_col.txt\", skip_line=6, skip_col=4)\n",
    "print(\"Y:\", Y)"
   ]
  }
 ],
 "metadata": {
  "kernelspec": {
   "display_name": "Python 3 (ipykernel)",
   "language": "python",
   "name": "python3"
  },
  "language_info": {
   "codemirror_mode": {
    "name": "ipython",
    "version": 3
   },
   "file_extension": ".py",
   "mimetype": "text/x-python",
   "name": "python",
   "nbconvert_exporter": "python",
   "pygments_lexer": "ipython3",
   "version": "3.9.13"
  }
 },
 "nbformat": 4,
 "nbformat_minor": 2
}
