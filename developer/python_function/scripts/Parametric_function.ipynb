{
 "cells": [
  {
   "cell_type": "markdown",
   "metadata": {},
   "source": [
    "# Parametric functions\n",
    "\n",
    "**Coding party OpenTURNS, march 2023**\n",
    "\n",
    "Michaël Baudin\n",
    "\n",
    "Mathieu Couplet"
   ]
  },
  {
   "cell_type": "markdown",
   "metadata": {},
   "source": [
    "## Abstract\n",
    "\n",
    "In many cases, the G function has parameters:\n",
    "\n",
    "* Numerical parameters: mecanical parameters (e.g. Young modulus), fluid (e.g. viscosity), geometric (e.g. length), etc.\n",
    "* Integer parameters: choice of a numerical method, choice of the physical model, etc.\n",
    "* Computer parameters: path to a directory, to a file, etc.\n",
    "\n",
    "Ces paramètres ne sont pas des variables aléatoires : on ne veut pas les\n",
    "faire varier.\n",
    "\n",
    "In this Notebook, we experiment with two classes:\n",
    "\n",
    "* `ParametricFunction`\n",
    "* `OpenTURNSPythonFunction`"
   ]
  },
  {
   "cell_type": "markdown",
   "metadata": {},
   "source": [
    "## References\n",
    "\n",
    "* Ishigami, T., & Homma, T. (1990, December). An importance quantification technique in uncertainty analysis for computer models. In Uncertainty Modeling and Analysis, 1990. Proceedings., First International Symposium on (pp. 398-403). IEEE.\n",
    "* http://openturns.github.io/openturns/master/examples/functional_modeling/parametric_function.html\n",
    "* http://openturns.github.io/openturns/master/user_manual/_generated/openturns.ParametricFunction.html\n",
    "* http://openturns.github.io/openturns/master/user_manual/_generated/openturns.Function.html\n",
    "* http://openturns.github.io/openturns/master/user_manual/_generated/openturns.OpenTURNSPythonFunction.html\n"
   ]
  },
  {
   "cell_type": "markdown",
   "metadata": {},
   "source": [
    "## Example\n",
    "\n",
    "We consider the Ishigami model.\n"
   ]
  },
  {
   "cell_type": "code",
   "execution_count": 1,
   "metadata": {},
   "outputs": [],
   "source": [
    "import openturns as ot\n",
    "import openturns.viewer as otv\n",
    "import math"
   ]
  },
  {
   "cell_type": "code",
   "execution_count": 2,
   "metadata": {},
   "outputs": [
    {
     "data": {
      "text/html": [
       "<p>[8.60881]</p>"
      ],
      "text/plain": [
       "class=Point name=Unnamed dimension=1 values=[8.60881]"
      ]
     },
     "execution_count": 2,
     "metadata": {},
     "output_type": "execute_result"
    }
   ],
   "source": [
    "def ishigamiG(x):\n",
    "    a = 7.0\n",
    "    b = 0.1\n",
    "    y = math.sin(x[0]) + a * math.sin(x[1]) ** 2 + b * x[2] ** 4 * math.sin(x[0])\n",
    "    return [y]\n",
    "\n",
    "\n",
    "myWrapper = ot.PythonFunction(3, 1, ishigamiG)\n",
    "\n",
    "p = math.pi / 2\n",
    "X = [p, p, p]\n",
    "myWrapper(X)"
   ]
  },
  {
   "cell_type": "markdown",
   "metadata": {},
   "source": [
    "We would like to change the values of `a` and `b`: that is impossible, because these parameters are hard coded."
   ]
  },
  {
   "cell_type": "markdown",
   "metadata": {},
   "source": [
    "## ParametricFunction\n",
    "\n",
    "The simplest solution is to use the `ParametricFunction`.\n",
    "\n",
    "We proceed in two steps. \n",
    "\n",
    "**Step 1:** Increase the input dimension so that `a` and `b` are part of the input.\n"
   ]
  },
  {
   "cell_type": "code",
   "execution_count": 3,
   "metadata": {},
   "outputs": [
    {
     "data": {
      "text/html": [
       "<p>[8.60881]</p>"
      ],
      "text/plain": [
       "class=Point name=Unnamed dimension=1 values=[8.60881]"
      ]
     },
     "execution_count": 3,
     "metadata": {},
     "output_type": "execute_result"
    }
   ],
   "source": [
    "def ishigamiG(x):\n",
    "    a = x[3]\n",
    "    b = x[4]\n",
    "    y = math.sin(x[0]) + a * math.sin(x[1]) ** 2 + b * x[2] ** 4 * math.sin(x[0])\n",
    "    return [y]\n",
    "\n",
    "\n",
    "myParamWrapper = ot.PythonFunction(5, 1, ishigamiG)\n",
    "\n",
    "X = [p, p, p, 7.0, 0.1]\n",
    "myParamWrapper(X)"
   ]
  },
  {
   "cell_type": "markdown",
   "metadata": {},
   "source": [
    "**Step 2:** Restrict the number of inputs to `x1`, `x2` and `x3` and set `a` and `b` as parameters.\n",
    "\n",
    "Each variable corresponds to a particular index of the input vectory `x`. Furthermore, we must take into account that Python indices start from 0. The next table presents the mapping. \n",
    "\n",
    "| Variable | Index |\n",
    "|---|---|\n",
    "| `x1` | 0 |\n",
    "| `x2` | 1 |\n",
    "| `x3` | 2 |\n",
    "| `a` | 3 |\n",
    "| `b` | 4 |\n",
    "\n",
    "**Table 1.** Mapping from the variable name to its index in the Python function. \n",
    "\n",
    "Since the variables `a` and `b` correspond to the indices 3 and 4 of `x`. This explains why the next cell defines the `indices` variable with the corresponding indices. "
   ]
  },
  {
   "cell_type": "code",
   "execution_count": 4,
   "metadata": {},
   "outputs": [],
   "source": [
    "a = 7.0\n",
    "b = 0.1\n",
    "indices = [3, 4]\n",
    "refPoint = [a, b]\n",
    "myWrapper = ot.ParametricFunction(myParamWrapper, indices, refPoint)"
   ]
  },
  {
   "cell_type": "markdown",
   "metadata": {},
   "source": [
    "Now the parametric function `myWrapper` takes an input point with dimension 3: the parameters `a` and `b` are set to constant values. "
   ]
  },
  {
   "cell_type": "code",
   "execution_count": 5,
   "metadata": {},
   "outputs": [
    {
     "data": {
      "text/html": [
       "<p>[8.60881]</p>"
      ],
      "text/plain": [
       "class=Point name=Unnamed dimension=1 values=[8.60881]"
      ]
     },
     "execution_count": 5,
     "metadata": {},
     "output_type": "execute_result"
    }
   ],
   "source": [
    "X = [p, p, p]\n",
    "myWrapper(X)"
   ]
  },
  {
   "cell_type": "markdown",
   "metadata": {},
   "source": [
    "The `getParameter()` method returns the values of the parameters. "
   ]
  },
  {
   "cell_type": "code",
   "execution_count": 6,
   "metadata": {},
   "outputs": [
    {
     "data": {
      "text/html": [
       "<p>[7,0.1]</p>"
      ],
      "text/plain": [
       "class=Point name=Unnamed dimension=2 values=[7,0.1]"
      ]
     },
     "execution_count": 6,
     "metadata": {},
     "output_type": "execute_result"
    }
   ],
   "source": [
    "myWrapper.getParameter()"
   ]
  },
  {
   "cell_type": "markdown",
   "metadata": {},
   "source": [
    "The `getParameterDimension()` method returns the dimension of the parameter point. "
   ]
  },
  {
   "cell_type": "code",
   "execution_count": 7,
   "metadata": {},
   "outputs": [
    {
     "data": {
      "text/plain": [
       "2"
      ]
     },
     "execution_count": 7,
     "metadata": {},
     "output_type": "execute_result"
    }
   ],
   "source": [
    "myWrapper.getParameterDimension()"
   ]
  },
  {
   "cell_type": "markdown",
   "metadata": {},
   "source": [
    "We can change the values of the parameters using the `setParameter()` method."
   ]
  },
  {
   "cell_type": "code",
   "execution_count": 8,
   "metadata": {},
   "outputs": [],
   "source": [
    "myWrapper.setParameter([8.0, 0.2])"
   ]
  },
  {
   "cell_type": "markdown",
   "metadata": {},
   "source": [
    "## Use a ParametricFunction in calibration\n",
    "\n",
    "The `ParametricFunction` is used in calibration algorithms, such as the `LinearLeastSquaresCalibration` or `RandomWalkMetropolisHastings` for example. This is because these algorithms tune the parameters of the parametric function so that the output of the function get closer to observed values. \n",
    "\n",
    "In calibration classes, the function has the calling sequence:\n",
    "\n",
    "$$\n",
    "y = h(x, \\theta)\n",
    "$$\n",
    "\n",
    "where $h$ is the model, $x$ is the observed input, $\\theta$ is the parameter and $y$ is the output.\n",
    "\n",
    "We must pay attention to the fact that each calibration class uses the `ParametricFunction` with its own way: the implementation of the mathematical idea is done differently depending on the class. \n",
    "\n",
    "- `LinearLeastSquaresCalibration`, `NonLinearLeastSquaresCalibration`, `GaussianLinearCalibration`, `GaussianNonLinearCalibration`: the parameter $\\theta$ is the parameter and the input of the function is $x$. The parametric function is $y = h_{\\theta}(x)$.\n",
    "- `RandomWalkMetropolisHastings`: the parameter $\\theta$ is the input and the parameter of the function is $x$. The parametric function is $y = h_{x}(\\theta)$."
   ]
  },
  {
   "cell_type": "markdown",
   "metadata": {},
   "source": [
    "## Advantages and limitations of the ParametricFunction\n",
    "\n",
    "If the function only has floating point number parameters and that the number of parameters is relatively small and homogeneous, then the `ParametricFunction` is the right tool. If the function has parameters which are not floating point numbers or when the number of parameters is large or heterogeneous, then the `ParametricFunction` is not easy to manage. In this case, the `OpenTURNSPythonFunction` class is more easy to use."
   ]
  },
  {
   "cell_type": "markdown",
   "metadata": {},
   "source": [
    "## OpenTURNSPythonFunction \n",
    "\n",
    "The `OpenTURNSPythonFunction` is the most exciting class to create a `Function`. Indeed, it allows to create a function which is based on a `Class`. Hence, \n",
    "\n",
    "**Step 1:** create the class.\n",
    "\n",
    "In the next cell, we define the Ishigami function using a class. The constructor, implemented in the `__init__`, has two inputs `a` and `b`. The body of the class calls the `super` function to evaluate the constructor of the parent `OpenTURNSPythonFunction` class. This constructor takes the input (here, 3) and output (here, 1) as input parameters. Then the parameters `a` and `b` are stored as attributes of the class. \n",
    "\n",
    "It is important to notice that we can take into account any number of input arguments in the constructor, and that these arguments are not necessarily floating point numbers: they can be any type of Python object, including strings, lists, etc. Moreover, there can be optional input arguments with default values. These features make a huge difference with the `ParametricFunction`, which can only take into account for a `Point` parameter, i.e. a sequence of floating point numbers.\n",
    "\n",
    "The evaluation of the function is performed in the `_exec` method of the class."
   ]
  },
  {
   "cell_type": "code",
   "execution_count": 9,
   "metadata": {},
   "outputs": [],
   "source": [
    "class IshigamiFunction(ot.OpenTURNSPythonFunction):\n",
    "    def __init__(self, a, b):\n",
    "        super(IshigamiFunction, self).__init__(3, 1)\n",
    "        self._a = a\n",
    "        self._b = b\n",
    "\n",
    "    def _exec(self, X):\n",
    "        a = self._a\n",
    "        b = self._b\n",
    "        y = math.sin(X[0]) + a * math.sin(X[1]) ** 2 + b * X[2] ** 4 * math.sin(X[0])\n",
    "        return [y]"
   ]
  },
  {
   "cell_type": "markdown",
   "metadata": {},
   "source": [
    "**Step 2:** Create a function.\n",
    "\n",
    "The object created from the `IshigamiFunction` cannot be evaluated directly: we must create a `Function` from it."
   ]
  },
  {
   "cell_type": "code",
   "execution_count": 10,
   "metadata": {},
   "outputs": [],
   "source": [
    "a = 7.0\n",
    "b = 0.1\n",
    "myParametricWrapper = IshigamiFunction(a, b)\n",
    "myWrapper = ot.Function(myParametricWrapper)"
   ]
  },
  {
   "cell_type": "markdown",
   "metadata": {},
   "source": [
    "Then the function can be used as any other function."
   ]
  },
  {
   "cell_type": "code",
   "execution_count": 11,
   "metadata": {},
   "outputs": [
    {
     "data": {
      "text/html": [
       "<p>[8.60881]</p>"
      ],
      "text/plain": [
       "class=Point name=Unnamed dimension=1 values=[8.60881]"
      ]
     },
     "execution_count": 11,
     "metadata": {},
     "output_type": "execute_result"
    }
   ],
   "source": [
    "X = [p, p, p]\n",
    "myWrapper(X)"
   ]
  },
  {
   "cell_type": "markdown",
   "metadata": {},
   "source": [
    "## Conclusion\n",
    "\n",
    "`ParametricFunction`:\n",
    "\n",
    "* simple ;\n",
    "* any `Function` can be parametric: symbolic, Python, ;\n",
    "* manages floating point numbers (no integer, string, etc.).\n",
    "\n",
    "`OpenTURNSPythonFunction` :\n",
    "\n",
    "* a little more complicated ;\n",
    "* only for a Python function ;\n",
    "* manages an arbitrary number and type of parameters.\n"
   ]
  },
  {
   "cell_type": "markdown",
   "metadata": {},
   "source": [
    "## Exercises\n",
    "\n",
    "The following function is an implementation of the flooding test case.\n"
   ]
  },
  {
   "cell_type": "code",
   "execution_count": 12,
   "metadata": {},
   "outputs": [],
   "source": [
    "def functionCrue(X):\n",
    "    H_d = 3.0  # Height of the dyke\n",
    "    Z_b = 55.5  # Height of the side of the river\n",
    "    L = 5000.0  # Length of the river\n",
    "    B = 300.0  # Width of the river\n",
    "    Z_d = Z_b + H_d\n",
    "    Q, K_s, Z_v, Z_m = X\n",
    "    alpha = (Z_m - Z_v) / L\n",
    "    H = (Q / (K_s * B * sqrt(alpha))) ** (3.0 / 5.0)\n",
    "    Z_c = H + Z_v\n",
    "    S = Z_c - Z_d\n",
    "    return [S]\n",
    "\n",
    "\n",
    "myWrapper = ot.PythonFunction(4, 1, functionCrue)"
   ]
  },
  {
   "cell_type": "markdown",
   "metadata": {},
   "source": [
    "The parameters `H_d`, `Z_b`, `L`, `B` are hard-coded in `functionCrue`. In the next exercises, we experiment several methods to customize the parameters `H_d`, `Z_b`, `L`, `B`.\n",
    "\n",
    "### Exercise 1\n",
    "\n",
    "Use the `ParametricFunction` on the flooding model."
   ]
  },
  {
   "cell_type": "markdown",
   "metadata": {},
   "source": [
    "### Solution of exercise 1"
   ]
  },
  {
   "cell_type": "code",
   "execution_count": 13,
   "metadata": {},
   "outputs": [],
   "source": [
    "def drawHistogram(myWrapper):\n",
    "    # 2. Random vector definition\n",
    "    Q = ot.Gumbel(558.0, 1013.0)\n",
    "    Q = ot.TruncatedDistribution(Q, 0.0, ot.TruncatedDistribution.LOWER)\n",
    "    K_s = ot.Normal(30.0, 7.5)\n",
    "    K_s = ot.TruncatedDistribution(K_s, 0.0, ot.TruncatedDistribution.LOWER)\n",
    "    Z_v = ot.Uniform(49.0, 51.0)\n",
    "    Z_m = ot.Uniform(54.0, 56.0)\n",
    "\n",
    "    # 3. Create the joint distribution function,\n",
    "    #    the output and the event.\n",
    "    inputDistribution = ot.ComposedDistribution([Q, K_s, Z_v, Z_m])\n",
    "    inputRandomVector = ot.RandomVector(inputDistribution)\n",
    "    outputRandomVector = ot.CompositeRandomVector(myWrapper, inputRandomVector)\n",
    "\n",
    "    # 4. Get a sample of the output\n",
    "    sampleS = outputRandomVector.getSample(10000)\n",
    "\n",
    "    # 5. Plot the histogram\n",
    "    histoGraph = ot.HistogramFactory().build(sampleS).drawPDF()\n",
    "    histoGraph.setTitle(\"Overflow\")\n",
    "    histoGraph.setXTitle(\"S (m)\")\n",
    "    histoGraph.setYTitle(\"PDF\")\n",
    "    histoGraph.setLegends([\"\"])\n",
    "    return histoGraph"
   ]
  },
  {
   "cell_type": "code",
   "execution_count": 14,
   "metadata": {},
   "outputs": [
    {
     "data": {
      "image/png": "[encoded data removed]",
      "text/plain": [
       "<Figure size 432x288 with 1 Axes>"
      ]
     },
     "metadata": {
      "needs_background": "light"
     },
     "output_type": "display_data"
    }
   ],
   "source": [
    "def floodingFullFunction(X):\n",
    "    Q, K_s, Z_v, Z_m, H_d, Z_b, L, B = X\n",
    "    Z_d = Z_b + H_d\n",
    "    alpha = (Z_m - Z_v) / L\n",
    "    H = (Q / (K_s * B * math.sqrt(alpha))) ** (3.0 / 5.0)\n",
    "    Z_c = H + Z_v\n",
    "    S = Z_c - Z_d\n",
    "    return [S]\n",
    "\n",
    "\n",
    "myFullFunction = ot.PythonFunction(8, 1, floodingFullFunction)\n",
    "\n",
    "H_d = 3.0  # Height of the dyke\n",
    "Z_b = 55.5  # Height of the side of the river\n",
    "L = 5000.0  # Length of the river\n",
    "B = 300.0  # Width of the river\n",
    "\n",
    "indices = [4, 5, 6, 7]\n",
    "referencePoint = [H_d, Z_b, L, B]\n",
    "myParametricFlooding = ot.ParametricFunction(myFullFunction, indices, referencePoint)\n",
    "\n",
    "histoGraph = drawHistogram(myParametricFlooding)\n",
    "histoGraph.setTitle(\"From Parametric function\")\n",
    "view = otv.View(histoGraph)"
   ]
  },
  {
   "cell_type": "markdown",
   "metadata": {},
   "source": [
    "### Exercise 2\n",
    "\n",
    "Use the `OpenTURNSPythonFunction` on the flooding model.\n"
   ]
  },
  {
   "cell_type": "markdown",
   "metadata": {},
   "source": [
    "### Solution of exercise 2"
   ]
  },
  {
   "cell_type": "code",
   "execution_count": 15,
   "metadata": {},
   "outputs": [
    {
     "data": {
      "image/png": "[encoded data removed]",
      "text/plain": [
       "<Figure size 432x288 with 1 Axes>"
      ]
     },
     "metadata": {
      "needs_background": "light"
     },
     "output_type": "display_data"
    }
   ],
   "source": [
    "class FloodingClassFunction(ot.OpenTURNSPythonFunction):\n",
    "    def __init__(self, H_d, Z_b, L, B):\n",
    "        super(FloodingClassFunction, self).__init__(4, 1)\n",
    "        self._H_d = H_d\n",
    "        self._Z_b = Z_b\n",
    "        self._L = L\n",
    "        self._B = B\n",
    "        # Z_d : côte de la digue\n",
    "        self._Z_d = self._Z_b + self._H_d\n",
    "\n",
    "    def _exec(self, X):\n",
    "        Q, K_s, Z_v, Z_m = X\n",
    "        alpha = (Z_m - Z_v) / self._L\n",
    "        H = (Q / (K_s * self._B * math.sqrt(alpha))) ** (3.0 / 5.0)\n",
    "        Z_c = H + Z_v\n",
    "        S = Z_c - self._Z_d\n",
    "        return [S]\n",
    "\n",
    "\n",
    "H_d = 3.0  # Height of the dyke\n",
    "Z_b = 55.5  # Height of the side of the river\n",
    "L = 5000.0  # Length of the river\n",
    "B = 300.0  # Width of the river\n",
    "\n",
    "myParametricWrapper = FloodingClassFunction(H_d, Z_b, L, B)\n",
    "myWrapper = ot.Function(myParametricWrapper)\n",
    "\n",
    "histoGraph = drawHistogram(myWrapper)\n",
    "histoGraph.setTitle(\"From OpenTURNSPythonFunction function\")\n",
    "view = otv.View(histoGraph)"
   ]
  },
  {
   "cell_type": "code",
   "execution_count": null,
   "metadata": {},
   "outputs": [],
   "source": []
  }
 ],
 "metadata": {
  "kernelspec": {
   "display_name": "Python 3 (ipykernel)",
   "language": "python",
   "name": "python3"
  },
  "language_info": {
   "codemirror_mode": {
    "name": "ipython",
    "version": 3
   },
   "file_extension": ".py",
   "mimetype": "text/x-python",
   "name": "python",
   "nbconvert_exporter": "python",
   "pygments_lexer": "ipython3",
   "version": "3.9.13"
  }
 },
 "nbformat": 4,
 "nbformat_minor": 2
}
