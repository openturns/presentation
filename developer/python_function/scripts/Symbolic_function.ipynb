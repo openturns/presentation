{
 "cells": [
  {
   "cell_type": "markdown",
   "metadata": {},
   "source": [
    "# Symbolic function\n",
    "\n",
    "**Coding party OpenTURNS, march 2023**\n",
    "\n",
    "Michaël Baudin\n",
    "\n",
    "Mathieu Couplet\n"
   ]
  },
  {
   "cell_type": "markdown",
   "metadata": {},
   "source": [
    "## Abstract\n",
    "\n",
    "In this Notebook, we present the symbolic function and its features. The exercises present the calculation of the gradient."
   ]
  },
  {
   "cell_type": "markdown",
   "metadata": {},
   "source": [
    "## References\n",
    "\n",
    "* User Manual, Functions : http://openturns.github.io/openturns/master/user_manual/functions.html\n",
    "* Examples, Functional modeling : http://openturns.github.io/openturns/master/examples/functional_modeling/functional_modeling.html\n",
    "\n",
    "* http://openturns.github.io/openturns/master/user_manual/_generated/openturns.MemoizeFunction.html\n",
    "* Sur ExprTk : OpenTURNS Users’ Day #11, Friday, the 15 th, June 2018, Denis Barbier, http://trac.openturns.org/blog/OpenTURNS_Users_Day_11"
   ]
  },
  {
   "cell_type": "markdown",
   "metadata": {},
   "source": [
    "## Symbolic function: goal, advantages and drawbacks\n",
    "\n",
    "The `SymbolicFunction` can create symbolic functions:\n",
    "\n",
    "* Idea: use a simple analytica formula.\n",
    "* Implementation: provide the string which defines the calculation.\n",
    "\n",
    "Advantages:\n",
    "\n",
    "* Can improve the performance\n",
    "* Calculate the exact gradient and Hessian\n",
    "\n",
    "Drawbacks:\n",
    "\n",
    "* Requires a simple mathematical formula.\n",
    "* Prevents from using external mathematical libraries: can only use the functions already known by the library.\n"
   ]
  },
  {
   "cell_type": "markdown",
   "metadata": {},
   "source": [
    "## Constructor\n",
    "\n",
    "\n",
    "```python\n",
    "myWrapperAnalytical = SymbolicFunction(list_of_inputs, list_of_formulas)\n",
    "```\n",
    "\n",
    "where:\n",
    "\n",
    "* `list_of_inputs`: a list of strings representing the inputs of the formula\n",
    "* `list_of_formulas`: a list of strings representing the formulas of the outputs\n"
   ]
  },
  {
   "cell_type": "code",
   "execution_count": 1,
   "metadata": {},
   "outputs": [
    {
     "data": {
      "text/plain": [
       "'1.19'"
      ]
     },
     "execution_count": 1,
     "metadata": {},
     "output_type": "execute_result"
    }
   ],
   "source": [
    "import openturns as ot\n",
    "\n",
    "ot.__version__"
   ]
  },
  {
   "cell_type": "code",
   "execution_count": 2,
   "metadata": {},
   "outputs": [],
   "source": [
    "X0 = ot.Normal(0.0, 1.0)\n",
    "X1 = ot.Normal(0.0, 1.0)\n",
    "X2 = ot.Normal(0.0, 1.0)\n",
    "inputDistribution = ot.ComposedDistribution((X0, X1, X2))\n",
    "inputRandomVector = ot.RandomVector(inputDistribution)"
   ]
  },
  {
   "cell_type": "markdown",
   "metadata": {},
   "source": [
    "The next cell defines the symbolic function."
   ]
  },
  {
   "cell_type": "code",
   "execution_count": 3,
   "metadata": {},
   "outputs": [],
   "source": [
    "myWrapper = ot.SymbolicFunction((\"x0\", \"x1\", \"x2\"), (\"x0 + x1 + x2\", \"x0 - x1 * x2\"))"
   ]
  },
  {
   "cell_type": "code",
   "execution_count": 4,
   "metadata": {},
   "outputs": [
    {
     "name": "stdout",
     "output_type": "stream",
     "text": [
      "[-0.0166778,-0.0123527]\n"
     ]
    }
   ],
   "source": [
    "outputVect = ot.CompositeRandomVector(myWrapper, inputRandomVector)\n",
    "montecarlosize = 10000\n",
    "outputSample = outputVect.getSample(montecarlosize)\n",
    "empiricalMean = outputSample.computeMean()\n",
    "print(empiricalMean)"
   ]
  },
  {
   "cell_type": "markdown",
   "metadata": {},
   "source": [
    "## Exercises"
   ]
  },
  {
   "cell_type": "markdown",
   "metadata": {},
   "source": [
    "### Exercise 1: a symbolic function with 4 inputs\n",
    "\n",
    "We consider the model:\n",
    "$$\n",
    "\\begin{eqnarray}\n",
    "Y_1 &=& X_1 + X_2 + X_3 \\\\\n",
    "Y_2 &=& X_1 − X_2 X_3 \\\\\n",
    "Y_3 &=& 2 X_1 + 3 X_2 + 4 X_4\n",
    "\\end{eqnarray}\n",
    "$$\n",
    "\n",
    "**Questions**\n",
    "* Create a symbolic function to create this model.\n",
    "* Evaluate the output at input $X=(1,2,3,4)^T$.\n",
    "* Estimate the mean of the output using Monte-Carlo simulation.\n",
    "\n",
    "**Solution**\n",
    "* A la fin du présent Notebook."
   ]
  },
  {
   "cell_type": "markdown",
   "metadata": {},
   "source": [
    "### Solution de l'exercice 1 : fonction symbolique avec 4 entrées"
   ]
  },
  {
   "cell_type": "code",
   "execution_count": 5,
   "metadata": {},
   "outputs": [
    {
     "data": {
      "text/html": [
       "<p>[6,-5,24]</p>"
      ],
      "text/plain": [
       "class=Point name=Unnamed dimension=3 values=[6,-5,24]"
      ]
     },
     "execution_count": 5,
     "metadata": {},
     "output_type": "execute_result"
    }
   ],
   "source": [
    "myWrapperSymbolic4 = ot.SymbolicFunction(\n",
    "    (\"x0\", \"x1\", \"x2\", \"x3\"),\n",
    "    (\"x0 + x1 + x2\", \"x0 - x1 * x2\", \"2 * x0 + 3 * x1 + 4 * x3\"),\n",
    ")\n",
    "X = ot.Point([1, 2, 3, 4])\n",
    "Y = myWrapperSymbolic4(X)\n",
    "Y"
   ]
  },
  {
   "cell_type": "code",
   "execution_count": 6,
   "metadata": {
    "scrolled": true
   },
   "outputs": [
    {
     "name": "stdout",
     "output_type": "stream",
     "text": [
      "[-0.00077008,-0.0165189,-0.0162596]\n"
     ]
    }
   ],
   "source": [
    "X1 = ot.Normal(0.0, 1.0)\n",
    "X2 = ot.Normal(0.0, 1.0)\n",
    "X3 = ot.Normal(0.0, 1.0)\n",
    "X4 = ot.Normal(0.0, 1.0)\n",
    "inputDistribution = ot.ComposedDistribution((X1, X2, X3, X4))\n",
    "inputRandomVector = ot.RandomVector(inputDistribution)\n",
    "outputVect = ot.CompositeRandomVector(myWrapperSymbolic4, inputRandomVector)\n",
    "montecarlosize = 10000\n",
    "outputSample = outputVect.getSample(montecarlosize)\n",
    "empiricalMean = outputSample.computeMean()\n",
    "print(empiricalMean)"
   ]
  },
  {
   "cell_type": "markdown",
   "metadata": {},
   "source": [
    "### Exercise 2: symbolic function with parameters\n",
    "\n",
    "We consider the model:\n",
    "$$\n",
    "\\begin{eqnarray}\n",
    "Y_1 &=& a X_1 + b X_2 \\\\\n",
    "Y_2 &=& c X_1 + d X_2\n",
    "\\end{eqnarray}\n",
    "$$\n",
    "\n",
    "where a, b, c, d are parameters:\n",
    "```python\n",
    "a = 12\n",
    "b = 23\n",
    "c = -34\n",
    "d = 45\n",
    "```\n",
    "\n",
    "**Questions**\n",
    "\n",
    "* Create a symbolic function for this new model using the `str` function.\n",
    "* Evaluate the output at point $X=(1,2,3,4)^T$.\n",
    "* Use `ParametricFunction` instead.\n",
    "* Which of the `str` or `ParametricFunction` class is more appropriate?\n"
   ]
  },
  {
   "cell_type": "markdown",
   "metadata": {},
   "source": [
    "### Solution of exercise 2: symbolic function with parameters"
   ]
  },
  {
   "cell_type": "code",
   "execution_count": 7,
   "metadata": {},
   "outputs": [
    {
     "name": "stdout",
     "output_type": "stream",
     "text": [
      "12*x0+23*x1\n",
      "-34*x0+45*x1\n"
     ]
    }
   ],
   "source": [
    "a = 12\n",
    "b = 23\n",
    "c = -34\n",
    "d = 45\n",
    "y1str = str(a) + \"*x0+\" + str(b) + \"*x1\"\n",
    "print(y1str)\n",
    "y2str = str(c) + \"*x0+\" + str(d) + \"*x1\"\n",
    "print(y2str)"
   ]
  },
  {
   "cell_type": "code",
   "execution_count": 8,
   "metadata": {
    "scrolled": true
   },
   "outputs": [
    {
     "data": {
      "text/html": [
       "<p>[58,56]</p>"
      ],
      "text/plain": [
       "class=Point name=Unnamed dimension=2 values=[58,56]"
      ]
     },
     "execution_count": 8,
     "metadata": {},
     "output_type": "execute_result"
    }
   ],
   "source": [
    "myWrapperABCD = ot.SymbolicFunction((\"x0\", \"x1\"), (y1str, y2str))\n",
    "X = ot.Point([1, 2])\n",
    "Y = myWrapperABCD(X)\n",
    "Y"
   ]
  },
  {
   "cell_type": "code",
   "execution_count": 9,
   "metadata": {},
   "outputs": [
    {
     "data": {
      "text/html": [
       "<p>[58,56]</p>"
      ],
      "text/plain": [
       "class=Point name=Unnamed dimension=2 values=[58,56]"
      ]
     },
     "execution_count": 9,
     "metadata": {},
     "output_type": "execute_result"
    }
   ],
   "source": [
    "myWrapperSymbolicFull = ot.SymbolicFunction(\n",
    "    (\"x0\", \"x1\", \"a\", \"b\", \"c\", \"d\"),\n",
    "    (\"a * x0 + b * x1\", \"c * x0 + d * x1\"),\n",
    ")\n",
    "a = 12\n",
    "b = 23\n",
    "c = -34\n",
    "d = 45\n",
    "parametricABCD = ot.ParametricFunction(\n",
    "    myWrapperSymbolicFull, [2, 3, 4, 5], [a, b, c, d]\n",
    ")\n",
    "X = ot.Point([1, 2])\n",
    "Y = parametricABCD(X)\n",
    "Y"
   ]
  },
  {
   "cell_type": "markdown",
   "metadata": {},
   "source": [
    "### Exercise 3: gradient of a symbolic function\n",
    "\n",
    "We want to check that OpenTURNS can compute the exact formal derivative of a symbolic function.\n",
    "\n",
    "**Questions**\n",
    "\n",
    "* Define the `myWrapperSymbolic` function as before.\n",
    "* Create the variable `myGradient` containing the gradient of the function. To do this, use the `getGradient()` method of the `myWrapperSymbolic` object. \n",
    "\n",
    "* What prints when we use the `print(myGradient)` statement?\n",
    "\n",
    "* We want to compute the gradient at point `x = (1, 2, 3)`. Use the `gradient` method of the `myGradient` object to evaluate G'(x).\n"
   ]
  },
  {
   "cell_type": "markdown",
   "metadata": {},
   "source": [
    "### Solution of exercise 3: gradient of a symbolic function"
   ]
  },
  {
   "cell_type": "code",
   "execution_count": 10,
   "metadata": {
    "scrolled": false
   },
   "outputs": [
    {
     "name": "stdout",
     "output_type": "stream",
     "text": [
      "[x0,x1,x2]->[x0 + x1 + x2,x0 - x1 * x2]\n",
      "\n",
      "| d(y0) / d(x0) = 1\n",
      "| d(y0) / d(x1) = 1\n",
      "| d(y0) / d(x2) = 1\n",
      "| d(y1) / d(x0) = 1\n",
      "| d(y1) / d(x1) = -1*x2\n",
      "| d(y1) / d(x2) = -1*x1\n",
      "\n"
     ]
    },
    {
     "data": {
      "text/html": [
       "<p>[[  1  1 ]<br>\n",
       " [  1 -3 ]<br>\n",
       " [  1 -2 ]]</p>"
      ],
      "text/plain": [
       "class=Matrix implementation=class=MatrixImplementation name=Unnamed rows=3 columns=2 values=[1,1,1,1,-3,-2]"
      ]
     },
     "execution_count": 10,
     "metadata": {},
     "output_type": "execute_result"
    }
   ],
   "source": [
    "myWrapper = ot.SymbolicFunction((\"x0\", \"x1\", \"x2\"), (\"x0 + x1 + x2\", \"x0 - x1 * x2\"))\n",
    "print(myWrapper)\n",
    "#\n",
    "myGradient = myWrapper.getGradient()\n",
    "print(myGradient)\n",
    "#\n",
    "myGradient.gradient([1.0, 2.0, 3.0])"
   ]
  },
  {
   "cell_type": "markdown",
   "metadata": {},
   "source": [
    "### Exercise 4: managing intermediate variables within a symbolic function\n",
    "\n",
    "Since OT 1.11, we can define a symbolic function that can uses intermediate variables. Hence, the output is not necessarily an explicit function of the inputs: we can define intermediate variables that can be used in one or more output variables. To to this, we can use the following calling sequence:\n",
    "```python\n",
    "myFunction = ot.SymbolicFunction(inputs, outputs, formula)\n",
    "```\n",
    "where `inputs` is a list of strings which contain the input, `outputs` is a list of strings which contain the output and `formula` is a string which contains the program of the evaluation. \n",
    "\n",
    "To create the `formula`, we can define several expressions, separated by `;`. Moreover, the intermediate variables must be tagged with the `var` keyword. The `:=` sign must be used to define each variable. In the current implementation (in OT 1.20), the function does not have an exact gradient: a finite difference formula is used instead.\n",
    "\n",
    "For example, for the model which inputs are $X_1$ and $X_2$ and the outputs are $Y_1$ and $Y_2$:\n",
    "$$\n",
    "\\begin{eqnarray}\n",
    "T &=& X_1 X_2 \\\\\n",
    "Y_1 &=& X_1 + T \\\\\n",
    "Y_2 &=& X_2 − 3T\n",
    "\\end{eqnarray}\n",
    "$$\n",
    "we can write:"
   ]
  },
  {
   "cell_type": "code",
   "execution_count": 11,
   "metadata": {},
   "outputs": [
    {
     "data": {
      "text/html": [
       "<p>[3,-4]</p>"
      ],
      "text/plain": [
       "class=Point name=Unnamed dimension=2 values=[3,-4]"
      ]
     },
     "execution_count": 11,
     "metadata": {},
     "output_type": "execute_result"
    }
   ],
   "source": [
    "inputs = [\"X1\", \"X2\"]\n",
    "formula = \"var T := X1 * X2; Y1 := X1 + T; Y2 := X2 - 3 * T\"\n",
    "outputs = [\"Y1\", \"Y2\"]\n",
    "myFunction = ot.SymbolicFunction(inputs, outputs, formula)\n",
    "myFunction([1.0, 2.0])"
   ]
  },
  {
   "cell_type": "markdown",
   "metadata": {},
   "source": [
    "To see this feature in action, we consider the flooding model. We consider 8 input variables: \n",
    "* $Q$: the river flowrate (m3/s)\n",
    "* $K_s$: the Strickler coefficient (m^(1/3)/s)\n",
    "* $Z_v$: the downstream height (m)\n",
    "* $Z_m$: the upstream height (m)\n",
    "* the height of the dyke: : $H_d = 3$\n",
    "* the altitude of the river banks: $Z_b = 55.5$\n",
    "* the river length: $L = 5000$\n",
    "* the river width: $B = 300$\n",
    "\n",
    "We consider two output variables:\n",
    "* the river height $H$,\n",
    "* the overflow $S$.\n",
    "\n",
    "The slope of the river is:\n",
    "$$\n",
    "\\alpha = \\frac{Z_m - Z_v}{L}.\n",
    "$$\n",
    "The height of the river is:\n",
    "$$\n",
    "H = \\left(\\frac{Q}{K_s B \\sqrt{\\alpha}}\\right)^{0.6}.\n",
    "$$\n",
    "The height of the flood is:\n",
    "$$\n",
    "Z_c = H + Z_v.\n",
    "$$\n",
    "The height of the dyke is:\n",
    "$$\n",
    "Z_d = Z_b + H_d.\n",
    "$$\n",
    "The flooding is:\n",
    "$$\n",
    "S = Z_c - Z_d.\n",
    "$$\n",
    "\n",
    "**Questions**\n",
    "\n",
    "* Use the previous equations to define the symbolic function.\n"
   ]
  },
  {
   "cell_type": "markdown",
   "metadata": {},
   "source": [
    "### Solution of exercise 4: managing intermediate variables within a symbolic function"
   ]
  },
  {
   "cell_type": "code",
   "execution_count": 12,
   "metadata": {},
   "outputs": [
    {
     "data": {
      "text/plain": [
       "[1013.0, 30.0, 50.0, 55.0, 8, 55.5, 5000, 300]"
      ]
     },
     "execution_count": 12,
     "metadata": {},
     "output_type": "execute_result"
    }
   ],
   "source": [
    "Q = 1013.0\n",
    "Ks = 30.0\n",
    "Zv = 50.0\n",
    "Zm = 55.0\n",
    "Hd = 8\n",
    "Zb = 55.5\n",
    "L = 5000\n",
    "B = 300\n",
    "X = [Q, Ks, Zv, Zm, Hd, Zb, L, B]\n",
    "X"
   ]
  },
  {
   "cell_type": "code",
   "execution_count": 13,
   "metadata": {},
   "outputs": [
    {
     "name": "stdout",
     "output_type": "stream",
     "text": [
      "var alpha := (Zm - Zv)/L;\n",
      "H := (Q / (Ks * B * sqrt(alpha)))^(3.0 / 5.0);\n",
      "var Zc := H + Zv;\n",
      "var Zd := Zb + Hd;\n",
      "S := Zc - Zd\n"
     ]
    }
   ],
   "source": [
    "inputs = [\"Q\", \"Ks\", \"Zv\", \"Zm\", \"Hd\", \"Zb\", \"L\", \"B\"]\n",
    "formula = \"var alpha := (Zm - Zv)/L;\\n\"\n",
    "formula += \"H := (Q / (Ks * B * sqrt(alpha)))^(3.0 / 5.0);\\n\"\n",
    "formula += \"var Zc := H + Zv;\\n\"\n",
    "formula += \"var Zd := Zb + Hd;\\n\"\n",
    "formula += \"S := Zc - Zd\"\n",
    "print(formula)"
   ]
  },
  {
   "cell_type": "code",
   "execution_count": 14,
   "metadata": {},
   "outputs": [
    {
     "name": "stdout",
     "output_type": "stream",
     "text": [
      "[2.142,-11.358]\n"
     ]
    }
   ],
   "source": [
    "outputs = [\"H\", \"S\"]\n",
    "myFunction = ot.SymbolicFunction(inputs, outputs, formula)\n",
    "print(myFunction(X))"
   ]
  }
 ],
 "metadata": {
  "kernelspec": {
   "display_name": "Python 3 (ipykernel)",
   "language": "python",
   "name": "python3"
  },
  "language_info": {
   "codemirror_mode": {
    "name": "ipython",
    "version": 3
   },
   "file_extension": ".py",
   "mimetype": "text/x-python",
   "name": "python",
   "nbconvert_exporter": "python",
   "pygments_lexer": "ipython3",
   "version": "3.9.13"
  }
 },
 "nbformat": 4,
 "nbformat_minor": 2
}
