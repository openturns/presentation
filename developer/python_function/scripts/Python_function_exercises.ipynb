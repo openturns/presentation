{
 "cells": [
  {
   "cell_type": "markdown",
   "metadata": {},
   "source": [
    "# Python functions\n",
    "\n",
    "**Coding party OpenTURNS, march 2023**\n",
    "\n",
    "Michaël Baudin\n",
    "\n",
    "Mathieu Couplet\n"
   ]
  },
  {
   "cell_type": "markdown",
   "metadata": {},
   "source": [
    "## Abstract\n",
    "\n",
    "In this Notebook, we present scripts to connect OpenTURNS to a Python function. This is required to propagate the uncertainties through the function. "
   ]
  },
  {
   "cell_type": "markdown",
   "metadata": {},
   "source": [
    "## References\n",
    "\n",
    "* User Manual, Functions [Lien](http://openturns.github.io/openturns/master/user_manual/functions.html)\n",
    "* Examples, Functional modeling : [Lien](http://openturns.github.io/openturns/master/examples/functional_modeling/functional_modeling.html)\n",
    "\n",
    "* Classe MemoizeFunction : [Lien](http://openturns.github.io/openturns/master/user_manual/_generated/openturns.MemoizeFunction.html)\n",
    "\n",
    "* Sur ExprTk : OpenTURNS Users’ Day #11, Friday, the 15 th, June 2018, Denis Barbier, [Lien](http://trac.openturns.org/blog/OpenTURNS_Users_Day_11)"
   ]
  },
  {
   "cell_type": "markdown",
   "metadata": {},
   "source": [
    "## Use a function\n",
    "\n",
    "The most common way to use a function is as follows:\n",
    "\n",
    "* we create a `Function`,\n",
    "* we use it to feed a `RandomVector`.\n",
    "\n",
    "Example :\n",
    "\n",
    "```python\n",
    "[...]\n",
    "myWrapper = PythonFunction ( MyWrapperClass ())\n",
    "[...]\n",
    "outVariable = CompositeRandomVector ( myWrapper , inRandomVector )\n",
    "[...]\n",
    "```"
   ]
  },
  {
   "cell_type": "markdown",
   "metadata": {},
   "source": [
    "Other uses of Python functions:\n",
    "\n",
    "* Bayesian calibration: see `RandomWalkMetropolisHastings`\n",
    "* stochastic processes : see `FieldFunction`\n",
    "* optimization : see `OptimizationProblem`\n",
    "* parametric functions : see `ParametricFunction`"
   ]
  },
  {
   "cell_type": "markdown",
   "metadata": {},
   "source": [
    "## A mathematical function\n",
    "\n",
    "For each case, we use the following mathematical problem:\n",
    "\n",
    "* 3 inputs, with standard normal and independent, \n",
    "* 2 outputs.\n",
    "\n",
    "We will consider the symbolic formula :\n",
    "$$\n",
    "\\begin{eqnarray}\n",
    "Y_1 &=& X_1 + X_2 + X_3 \\\\\n",
    "Y_2 &=& X_1 − X_2 X_3\n",
    "\\end{eqnarray}\n",
    "$$\n",
    "\n",
    "The exact results are presented in the following table.\n",
    "\n",
    "| Variable | Expectation | Standard deviation |\n",
    "|-|-|-|\n",
    "| $Y_1$ | 0 | 1.732 |\n",
    "| $Y_2$ | 0 | 1.415 |\n",
    "\n",
    "**Table 1.** Expectation and standard deviation of the output of the mathematical model.\n"
   ]
  },
  {
   "cell_type": "code",
   "execution_count": 1,
   "metadata": {},
   "outputs": [
    {
     "data": {
      "text/plain": [
       "'1.19'"
      ]
     },
     "execution_count": 1,
     "metadata": {},
     "output_type": "execute_result"
    }
   ],
   "source": [
    "import openturns as ot\n",
    "import numpy as np\n",
    "import time\n",
    "import math\n",
    "import multiprocessing\n",
    "\n",
    "ot.__version__"
   ]
  },
  {
   "cell_type": "code",
   "execution_count": 2,
   "metadata": {},
   "outputs": [],
   "source": [
    "X0 = ot.Normal(0.0, 1.0)\n",
    "X1 = ot.Normal(0.0, 1.0)\n",
    "X2 = ot.Normal(0.0, 1.0)\n",
    "inputDistribution = ot.ComposedDistribution((X0, X1, X2))\n",
    "inputRandomVector = ot.RandomVector(inputDistribution)"
   ]
  },
  {
   "cell_type": "markdown",
   "metadata": {},
   "source": [
    "## PythonFunction : constructor\n",
    "\n",
    "The `PythonFunction` classe creates function that OpenTURNS can evaluate. It uses a Python function defined by the `def` keyword.\n",
    "\n",
    "![PythonFunction](PythonFunction.png)\n",
    "\n",
    "The constructor of the class is:\n",
    "\n",
    "`PythonFunction ( nbInputs , nbOutputs , myPythonFunc )`\n",
    "\n",
    "where:\n",
    "\n",
    "* `nbInputs`: number of input variables, \n",
    "* `nbOutputs`: number of output variables,\n",
    "* `myPythonFunc`: a Python function.\n",
    "\n",
    "The function `mySimulator` has the calling sequence `y=mySimulator(x)` where:\n",
    "\n",
    "* `x`: the input of the simulator, a vector with dimension `nbInputs`,\n",
    "* `y`: la sortie du simulateur, a vector with dimension `nbOutputs`."
   ]
  },
  {
   "cell_type": "code",
   "execution_count": 3,
   "metadata": {},
   "outputs": [],
   "source": [
    "def mySimulator(x):\n",
    "    y0 = x[0] + x[1] + x[2]\n",
    "    y1 = x[0] - x[1] * x[2]\n",
    "    y = [y0, y1]\n",
    "    return y"
   ]
  },
  {
   "cell_type": "markdown",
   "metadata": {},
   "source": [
    "## Why do I have to use the PythonFunction class... in Python???\n",
    "\n",
    "For a Python user of the `scipy`, `scikit-learn` or any other Python library, it may seem unnecessary to convert a Python function into a `PythonFunction`. There are several reasons why this is necessary and can be useful.\n",
    "\n",
    "OpenTURNS is a C++ library that we can access using Python. Hence, the library cannot evaluate a Python function directly. The SWIG layer of OpenTURNS allows Python users to access to OpenTURNS using Python. Hence, the main purpose of the `PythonFunction` class is to convert the Python function into a `Function` than OpenTURNS can evaluate.\n",
    "\n",
    "At this point, some Python users may require that the conversion is performed automatically, so that the user would not have to do it explicitly. This may be an option in a library that only uses Python functions. But OpenTURNS provides several types of functions (8 different types of Python functions) and each type of function has its own purpose: for example, the `PythonFieldFunction` manages a spatial or temporal field function. Providing an automatic conversion would create confusing scripts where the specific type of object would be unknown when reading the script. \n",
    "\n",
    "Finally, most libraries do not require to provide the `PythonFunction` class, because the Python function is the only way to provide a function. This may lead to inefficient algorithms. Indeed, the Python function defined by `def` has poor semantic content:\n",
    "\n",
    "- is the function linear, quadratic?\n",
    "- is the function parametric?\n",
    "- is the function composed?\n",
    "- is the function part of an orthonormal family of functions?\n",
    "- has the function an implementation of the gradient, of the Hessian?\n",
    "\n",
    "In OpenTURNS, there are many ways to create a function and to combine them with other objects. For example, the `SymbolicFunction` can create a function using a string which defines the function. This function can be made parametric using the `ParametricFunction`, composed to another function using the `ComposedFunction` class, etc. The OpenTURNS libraries provides more than 50 different ways to create and combine functions, so that each algorithm can use the specific feature of each type of function. For example, the `DistanceToDomainFunction` can be used to estimate HSIC indices. The `LinearFunction` is a linear function that can be used e.g. in an adaptive directional stratification algorithm when the probability to compute is defined as a combination of hyperplanes. In other words, the `PythonFunction` class in OpenTURNS illustrates the fact that many different types of functions can be defined, which makes so that the very specific properties of each function can be defined by the user. This enables to get efficient and potentially fast algorithms, because the specific property of each function is known by the algorithm through the class it derives from."
   ]
  },
  {
   "cell_type": "markdown",
   "metadata": {},
   "source": [
    "## Examples of the PythonFunction class\n",
    "\n",
    "In the next example, we estimate the mean of the output using a Monte-Carlo sample with size equal to 10000 observations."
   ]
  },
  {
   "cell_type": "code",
   "execution_count": 4,
   "metadata": {},
   "outputs": [
    {
     "name": "stdout",
     "output_type": "stream",
     "text": [
      "[-0.0166778,-0.0123527]\n",
      "[1.73359,1.39888]\n"
     ]
    }
   ],
   "source": [
    "myWrapper = ot.PythonFunction(3, 2, mySimulator)\n",
    "outputVect = ot.CompositeRandomVector(myWrapper, inputRandomVector)\n",
    "montecarlosize = 10000\n",
    "outputSample = outputVect.getSample(montecarlosize)\n",
    "empiricalMean = outputSample.computeMean()\n",
    "print(empiricalMean)\n",
    "empiricalSd = outputSample.computeStandardDeviation()\n",
    "print(empiricalSd)"
   ]
  },
  {
   "cell_type": "markdown",
   "metadata": {},
   "source": [
    "## What type for x and y?\n",
    "\n",
    "| Type | Input X | Output Y |\n",
    "|-|-|-|\n",
    "| list (Python) | | ✓ |\n",
    "| tuple (Python) | | ✓ |\n",
    "| array (NumPy) | | ✓ |\n",
    "| Point (OpenTURNS) | ✓ | ✓ |\n",
    "\n",
    "**Table 2.** The different types of inputs and outputs of a `PythonFunction`."
   ]
  },
  {
   "cell_type": "markdown",
   "metadata": {},
   "source": [
    "## PythonFunction : goals, advantages, drawbacks\n",
    "\n",
    "The goals of the `PythonFunction` are:\n",
    "\n",
    "* to be simple to implement, \n",
    "* to use the flexibility of Python: enables to use any Python package to evaluate the output (e.g. `scipy`).\n",
    "\n",
    "Advantages:\n",
    "\n",
    "* Useful if the simulation already is in Python or has a Python API.\n",
    "* Can be combined with \"Coupling Tools\" to connect to an external program through files.\n",
    "* Can be vectorised with `func_sample`.\n",
    "* Can be parallelized on multiple cpus with the `n_cpus` option (see l'exercise 5).\n",
    "\n",
    "Drawbacks:\n",
    "\n",
    "* The derivatives (gradient, Hessian) uses, by default, finite differences. This can lead to inaccurate results if the step size is poorly chosen."
   ]
  },
  {
   "cell_type": "markdown",
   "metadata": {},
   "source": [
    "## Vectorised PythonFunction : goals, advantages and drawbacks\n",
    "\n",
    "The `PythonFunction` class has a `func_sample` option:\n",
    "\n",
    "* Idea: improve the performance by vectorising operations.\n",
    "* Principle: evaluate all the outputs in the `Sample` with a single evaluation, without a `for` loop.\n",
    "* Implementation: the input and output are `Sample` instead of a `Point`.\n",
    "\n",
    "Advantage:\n",
    "\n",
    "* Improve performance\n",
    "\n",
    "Drawback:\n",
    "\n",
    "* Requires the vectorise the evaluation, which is not always easy."
   ]
  },
  {
   "cell_type": "markdown",
   "metadata": {},
   "source": [
    "## Calling sequence\n",
    "\n",
    "```python\n",
    "def mySimulator (x):\n",
    "    [...]\n",
    "    return y\n",
    "myWrapper=PythonFunction(nbInputs, nbOutputs, func_sample=mySimulator)\n",
    "```\n",
    "\n",
    "where:\n",
    "\n",
    "* `x`: the input of the simulator, a `Sample` with size `nbExperiments` (`getSize()`), and dimension `nbInputs` (`getDimension()`),\n",
    "* `y`: the output of the function. Can be:\n",
    "    * a `numpy.array` with `nbExperiments` rows and `nbOutputs` columns\n",
    "    * a `ot.Sample` with size equal to `nbExperiments` and dimension equal to `nbOutputs`"
   ]
  },
  {
   "cell_type": "markdown",
   "metadata": {},
   "source": [
    "## Vectorised PythonFunction: example with Numpy\n"
   ]
  },
  {
   "cell_type": "code",
   "execution_count": 5,
   "metadata": {},
   "outputs": [],
   "source": [
    "def mySimulatorVect(x):\n",
    "    # Convert Sample > Numpy array\n",
    "    x = np.array(x)\n",
    "    x0 = x[:, 0]  # Get column 0\n",
    "    x1 = x[:, 1]\n",
    "    x2 = x[:, 2]\n",
    "    y0 = x0 + x1 + x2\n",
    "    y1 = x0 - x1 * x2\n",
    "    y = np.vstack((y0, y1))  # Stack two rows\n",
    "    y = y.transpose()  # Transpose the result\n",
    "    return y\n",
    "\n",
    "\n",
    "myWrapperVect = ot.PythonFunction(3, 2, func_sample=mySimulatorVect)"
   ]
  },
  {
   "cell_type": "code",
   "execution_count": 6,
   "metadata": {},
   "outputs": [
    {
     "name": "stdout",
     "output_type": "stream",
     "text": [
      "[-0.00077008,-0.0165189]\n",
      "[1.74231,1.40859]\n"
     ]
    }
   ],
   "source": [
    "outputVect = ot.CompositeRandomVector(myWrapperVect, inputRandomVector)\n",
    "montecarlosize = 10000\n",
    "outputSample = outputVect.getSample(montecarlosize)\n",
    "\n",
    "empiricalMean = outputSample.computeMean()\n",
    "print(empiricalMean)\n",
    "empiricalSd = outputSample.computeStandardDeviation()\n",
    "print(empiricalSd)"
   ]
  },
  {
   "cell_type": "markdown",
   "metadata": {},
   "source": [
    "## MemoizeFunction to manage the history of evaluations\n",
    "\n",
    "The `MemoizeFunction` class defines a system to manage the history of the evaluations of the function.\n",
    "\n",
    "| Method | Feature |\n",
    "|-|-|\n",
    "| `enableHistory()` | enables the history (default : enabled) | |\n",
    "| `disableHistory()` | disable the history |\n",
    "| `isHistoryEnabled()` | `True` is the history is enabled |\n",
    "| `clearHistory()` | delete the history |\n",
    "| `getHistoryInput()` | a `Sample`, the history of the input `X` |\n",
    "| `getHistoryOutput()` | a `Sample`, the history of the outputs `Y` |\n",
    "\n",
    "**Table 3.** The main methods of the `MemoizeFunction` class."
   ]
  },
  {
   "cell_type": "markdown",
   "metadata": {},
   "source": [
    "In the next script, we create a function and wrap it into a `MemoizeFunction`. Then we generate a sample on output of the function. "
   ]
  },
  {
   "cell_type": "code",
   "execution_count": 7,
   "metadata": {},
   "outputs": [],
   "source": [
    "myWrapper = ot.PythonFunction(3, 2, mySimulator)\n",
    "myWrapper = ot.MemoizeFunction(myWrapper)\n",
    "\n",
    "outputVariableOfInterest = ot.CompositeRandomVector(myWrapper, inputRandomVector)\n",
    "montecarlosize = 10\n",
    "outputSample = outputVariableOfInterest.getSample(montecarlosize)"
   ]
  },
  {
   "cell_type": "markdown",
   "metadata": {},
   "source": [
    "The next cell gets the input history: this corresponds to the 10 outputs of the previous Monte-Carlo sample."
   ]
  },
  {
   "cell_type": "code",
   "execution_count": 8,
   "metadata": {},
   "outputs": [
    {
     "data": {
      "text/html": [
       "<TABLE><TR><TD></TD><TH>v0</TH><TH>v1</TH><TH>v2</TH></TR>\n",
       "<TR><TH>0</TH><TD>-0.3426049</TD><TD>-0.689637</TD><TD>1.243087</TD></TR>\n",
       "<TR><TH>1</TH><TD>-2.138653</TD><TD>-1.463523</TD><TD>1.102626</TD></TR>\n",
       "<TR><TH>2</TH><TD>-0.6212717</TD><TD>0.05683585</TD><TD>-1.010414</TD></TR>\n",
       "<TR><TH>3</TH><TD>0.1409458</TD><TD>0.5532786</TD><TD>0.6904337</TD></TR>\n",
       "<TR><TH>4</TH><TD>0.3056622</TD><TD>-1.136505</TD><TD>1.692227</TD></TR>\n",
       "<TR><TH>5</TH><TD>-1.518799</TD><TD>0.9695327</TD><TD>-1.76564</TD></TR>\n",
       "<TR><TH>6</TH><TD>1.860326</TD><TD>1.21488</TD><TD>0.8128723</TD></TR>\n",
       "<TR><TH>7</TH><TD>0.3277056</TD><TD>-0.6888172</TD><TD>-2.011791</TD></TR>\n",
       "<TR><TH>8</TH><TD>-0.3952833</TD><TD>1.841281</TD><TD>-1.368505</TD></TR>\n",
       "<TR><TH>9</TH><TD>0.4561018</TD><TD>-0.1313743</TD><TD>0.5728196</TD></TR>\n",
       "</TABLE>"
      ],
      "text/plain": [
       "class=Sample name=Unnamed implementation=class=SampleImplementation name=Unnamed size=10 dimension=3 data=[[-0.342605,-0.689637,1.24309],[-2.13865,-1.46352,1.10263],[-0.621272,0.0568358,-1.01041],[0.140946,0.553279,0.690434],[0.305662,-1.1365,1.69223],[-1.5188,0.969533,-1.76564],[1.86033,1.21488,0.812872],[0.327706,-0.688817,-2.01179],[-0.395283,1.84128,-1.36851],[0.456102,-0.131374,0.57282]]"
      ]
     },
     "execution_count": 8,
     "metadata": {},
     "output_type": "execute_result"
    }
   ],
   "source": [
    "inputs = myWrapper.getInputHistory()\n",
    "inputs"
   ]
  },
  {
   "cell_type": "markdown",
   "metadata": {},
   "source": [
    "Get the output history."
   ]
  },
  {
   "cell_type": "code",
   "execution_count": 9,
   "metadata": {},
   "outputs": [
    {
     "data": {
      "text/html": [
       "<TABLE><TR><TD></TD><TH>v0</TH><TH>v1</TH></TR>\n",
       "<TR><TH>0</TH><TD>0.2108453</TD><TD>0.5146739</TD></TR>\n",
       "<TR><TH>1</TH><TD>-2.499551</TD><TD>-0.5249359</TD></TR>\n",
       "<TR><TH>2</TH><TD>-1.57485</TD><TD>-0.5638439</TD></TR>\n",
       "<TR><TH>3</TH><TD>1.384658</TD><TD>-0.2410564</TD></TR>\n",
       "<TR><TH>4</TH><TD>0.8613838</TD><TD>2.228886</TD></TR>\n",
       "<TR><TH>5</TH><TD>-2.314906</TD><TD>0.1930463</TD></TR>\n",
       "<TR><TH>6</TH><TD>3.888078</TD><TD>0.8727844</TD></TR>\n",
       "<TR><TH>7</TH><TD>-2.372903</TD><TD>-1.058051</TD></TR>\n",
       "<TR><TH>8</TH><TD>0.07749258</TD><TD>2.124519</TD></TR>\n",
       "<TR><TH>9</TH><TD>0.8975471</TD><TD>0.5313556</TD></TR>\n",
       "</TABLE>"
      ],
      "text/plain": [
       "class=Sample name=Unnamed implementation=class=SampleImplementation name=Unnamed size=10 dimension=2 data=[[0.210845,0.514674],[-2.49955,-0.524936],[-1.57485,-0.563844],[1.38466,-0.241056],[0.861384,2.22889],[-2.31491,0.193046],[3.88808,0.872784],[-2.3729,-1.05805],[0.0774926,2.12452],[0.897547,0.531356]]"
      ]
     },
     "execution_count": 9,
     "metadata": {},
     "output_type": "execute_result"
    }
   ],
   "source": [
    "outputs = myWrapper.getOutputHistory()\n",
    "outputs"
   ]
  },
  {
   "cell_type": "markdown",
   "metadata": {},
   "source": [
    "##  Exercises\n",
    "\n",
    "\n",
    "### Exercise 1: a function with 4 inputs\n",
    "\n",
    "We consider a new model, with a new input $X_4$ and a new output $Y_3$:\n",
    "\n",
    "$$\n",
    "\\begin{eqnarray}\n",
    "Y_1 &=& X_1 + X_2 + X_3 \\\\\n",
    "Y_2 &=& X_1 − X_2 X_3 \\\\\n",
    "Y_3 &=& 2 X_1 + 3 X_2 + 4 X_4\n",
    "\\end{eqnarray}\n",
    "$$\n",
    "\n",
    "**Questions**\n",
    "\n",
    "* Update the Python function to simulate the new model.\n",
    "* Add a new random variable `X4` with standard normal distribution into the probabilistic model.\n",
    "* Estimate the sample mean using simple Monte-Carlo sampling.\n"
   ]
  },
  {
   "cell_type": "markdown",
   "metadata": {},
   "source": [
    "### Solution of exercise 1: a function with 4 inputs\n"
   ]
  },
  {
   "cell_type": "code",
   "execution_count": 10,
   "metadata": {
    "scrolled": false
   },
   "outputs": [
    {
     "data": {
      "text/html": [
       "<p>[-0.000337898,-0.00609942,0.115035]</p>"
      ],
      "text/plain": [
       "class=Point name=Unnamed dimension=3 values=[-0.000337898,-0.00609942,0.115035]"
      ]
     },
     "execution_count": 10,
     "metadata": {},
     "output_type": "execute_result"
    }
   ],
   "source": [
    "def mySimulator(x):\n",
    "    y0 = x[0] + x[1] + x[2]\n",
    "    y1 = x[0] - x[1] * x[2]\n",
    "    y2 = 2 * x[0] + 3 * x[1] + 4 * x[3]\n",
    "    y = [y0, y1, y2]\n",
    "    return y\n",
    "\n",
    "\n",
    "myWrapper = ot.PythonFunction(4, 3, mySimulator)\n",
    "# Create the marginal distributions\n",
    "X0 = ot.Normal(0.0, 1.0)\n",
    "X1 = ot.Normal(0.0, 1.0)\n",
    "X2 = ot.Normal(0.0, 1.0)\n",
    "X3 = ot.Normal(0.0, 1.0)\n",
    "# Create the input probability distribution\n",
    "inputDistribution = ot.ComposedDistribution((X0, X1, X2, X3))\n",
    "# Create the input random vector\n",
    "inputRandomVector = ot.RandomVector(inputDistribution)\n",
    "# Create the output variable of interest\n",
    "outputVariableOfInterest = ot.CompositeRandomVector(myWrapper, inputRandomVector)\n",
    "# Probabilistic Study: central dispersion\n",
    "montecarlosize = 10000\n",
    "# Start the simulations\n",
    "outputSample = outputVariableOfInterest.getSample(montecarlosize)\n",
    "# Get the empirical mean and standard deviations\n",
    "outputDim = myWrapper.getOutputDimension()\n",
    "outputSample.computeMean()"
   ]
  },
  {
   "cell_type": "markdown",
   "metadata": {},
   "source": [
    "### Exercise 2: gradient of a Python function\n",
    "\n",
    "OpenTURNS can evaluate the derivative of a Python function using finite differences. We can customize the finite difference fomula and the step. Moreover, when the Jacobian matrix is available in a Python function, we can give that function to the library so that it can be used. This can be convenient when for example the exact derivative is known. \n",
    "\n",
    "**Questions**\n",
    "\n",
    "* Define a function `myWrapper` as in the previous example.\n",
    "* Use the `gradient()` method of `myWrapper` to evaluate the gradient $g'(x)$ at point $x = (1, 2, 3)^T$. \n",
    "* Use the `hessian()` of `myWrapper` to evaluate the Hessian matrix.\n",
    "* Use the next script to configure the gradient using a non-centered finite difference formula with a step size equal to $h = 10^{-2}$. \n",
    "\n",
    "```python\n",
    "wrapImpl = myWrapper.getEvaluation()\n",
    "h = 1.e-2\n",
    "myGradient = ot.NonCenteredFiniteDifferenceGradient(h, wrapImpl)\n",
    "myWrapper.setGradient(myGradient)\n",
    "```\n",
    "\n",
    "* Evaluate the gradient with the `gradient()` method and compare with the previous result.\n",
    "* We can give to the library a Python function which evaluates the gradient. To do this, we use:\n",
    "```python\n",
    "myWrapper = ot.PythonFunction(nbInputs, nbOutputs, mySimulator, gradient=mySimulatorGradient)\n",
    "```\n",
    "where `mySimulatorGradient` is a function which evaluates the gradient.\n",
    "Compute by hand (or using [Wolfram Alpha](https://www.wolframalpha.com/input?i=derivative+of+x1+%2B+x2+%2B+x3+with+respect+to+x1)). Define the function `mySimulatorGradient` which evaluates the Jacobian matrix. Since there are 3 input variables, the `list` returned by `mySimulatorGradient` must contain 3 elements. Each element of the `list` must be a `list` with 2 items representing the derivatives of each output. Finally, create the function using the `gradient` option.\n"
   ]
  },
  {
   "cell_type": "markdown",
   "metadata": {},
   "source": [
    "### Solution de l'exercise 2: gradient of a Python function"
   ]
  },
  {
   "cell_type": "code",
   "execution_count": 11,
   "metadata": {},
   "outputs": [
    {
     "name": "stdout",
     "output_type": "stream",
     "text": [
      "type(d)= <class 'openturns.typ.Matrix'>\n",
      "Gradient par DF=\n",
      "[[  1  1 ]\n",
      " [  1 -3 ]\n",
      " [  1 -2 ]]\n",
      "type(dd)= <class 'openturns.typ.SymmetricTensor'>\n",
      "Hessienne=\n",
      "sheet #0\n",
      "[[  0            2.22045e-08  0           ]\n",
      " [  2.22045e-08  0            2.22045e-08 ]\n",
      " [  0            2.22045e-08  0           ]]\n",
      "sheet #1\n",
      "[[  0            0            0           ]\n",
      " [  0            0           -1           ]\n",
      " [  0           -1            0           ]]\n",
      "Gradient par DF non centrée=\n",
      "[[  1  1 ]\n",
      " [  1 -3 ]\n",
      " [  1 -2 ]]\n"
     ]
    }
   ],
   "source": [
    "def mySimulator(x):\n",
    "    y0 = x[0] + x[1] + x[2]\n",
    "    y1 = x[0] - x[1] * x[2]\n",
    "    y = [y0, y1]\n",
    "    return y\n",
    "\n",
    "\n",
    "inputDim = 3\n",
    "outputDim = 2\n",
    "myWrapper = ot.PythonFunction(inputDim, outputDim, mySimulator)\n",
    "\n",
    "# Evaluate the gradient\n",
    "d = myWrapper.gradient([1, 2, 3])\n",
    "print(\"type(d)=\", type(d))  # OT Matrix\n",
    "print(\"Gradient par DF=\")\n",
    "print(d)\n",
    "\n",
    "# Evaluate the Hessian\n",
    "dd = myWrapper.hessian([1, 2, 3])\n",
    "print(\"type(dd)=\", type(dd))  # OT SymmetricTensor\n",
    "print(\"Hessienne=\")\n",
    "print(dd)\n",
    "\n",
    "# Configure the finite difference formula of the gradient\n",
    "wrapImpl = myWrapper.getEvaluation()\n",
    "myGradient = ot.NonCenteredFiniteDifferenceGradient(1.0e-2, wrapImpl)\n",
    "myWrapper.setGradient(myGradient)\n",
    "\n",
    "d = myWrapper.gradient([1, 2, 3])\n",
    "print(\"Gradient par DF non centrée=\")\n",
    "print(d)"
   ]
  },
  {
   "cell_type": "code",
   "execution_count": 12,
   "metadata": {
    "scrolled": true
   },
   "outputs": [
    {
     "name": "stdout",
     "output_type": "stream",
     "text": [
      "d - Exact =\n",
      "[[  1  1 ]\n",
      " [  1 -3 ]\n",
      " [  1 -2 ]]\n"
     ]
    }
   ],
   "source": [
    "# Configure the gradient of a Python function\n",
    "def mySimulatorGradient(x):\n",
    "    dyx0 = [1.0, 1.0]\n",
    "    dyx1 = [1.0, -x[2]]\n",
    "    dyx2 = [1.0, -x[1]]\n",
    "    y = [dyx0, dyx1, dyx2]\n",
    "    return y\n",
    "\n",
    "\n",
    "myWrapper = ot.PythonFunction(3, 2, mySimulator, gradient=mySimulatorGradient)\n",
    "d = myWrapper.gradient([1, 2, 3])\n",
    "print(\"d - Exact =\")\n",
    "print(d)"
   ]
  },
  {
   "cell_type": "markdown",
   "metadata": {},
   "source": [
    "### Exercise 3: manage the history of a Python function\n",
    "\n",
    "**Questions**\n",
    "\n",
    "* See the change in the output of the `isHistoryEnabled()` method.\n",
    "* What are the methods which allows to get the history of the input and output values? Experiment with them.\n",
    "* How to get the number of evaluations of the function? How is this changed when several algorithms are used in sequence?\n",
    "* Use the `clearHistory()` method and check that the history is empty after the call."
   ]
  },
  {
   "cell_type": "markdown",
   "metadata": {},
   "source": [
    "### Solution of l'exercise 3: manage the history of a Python function"
   ]
  },
  {
   "cell_type": "code",
   "execution_count": 13,
   "metadata": {
    "scrolled": true
   },
   "outputs": [
    {
     "name": "stdout",
     "output_type": "stream",
     "text": [
      "inputs\n",
      "    [ v0         v1         v2         ]\n",
      "0 : [ -0.222044  -0.770033   1.16119   ]\n",
      "1 : [  0.978763  -0.154068  -0.788095  ]\n",
      "2 : [ -0.907291   0.0717698  1.6041    ]\n",
      "3 : [ -0.621793   0.328243   0.540337  ]\n",
      "4 : [  0.504746  -0.434332  -0.852683  ]\n",
      "outputs\n",
      "    [ v0         v1         ]\n",
      "0 : [  0.169115   0.672112  ]\n",
      "1 : [  0.0366002  0.857343  ]\n",
      "2 : [  0.768574  -1.02242   ]\n",
      "3 : [  0.246787  -0.799155  ]\n",
      "4 : [ -0.782268   0.134399  ]\n",
      "nGEvals = 20\n",
      "After clearHistory. Output history:\n"
     ]
    },
    {
     "data": {
      "text/html": [
       "<TABLE><TR><TD></TD><TH>v0</TH><TH>v1</TH></TR>\n",
       "</TABLE>"
      ],
      "text/plain": [
       "class=Sample name=Unnamed implementation=class=SampleImplementation name=Unnamed size=0 dimension=2 data=[]"
      ]
     },
     "execution_count": 13,
     "metadata": {},
     "output_type": "execute_result"
    }
   ],
   "source": [
    "def mySimulator(x):\n",
    "    y0 = x[0] + x[1] + x[2]\n",
    "    y1 = x[0] - x[1] * x[2]\n",
    "    y = [y0, y1]\n",
    "    return y\n",
    "\n",
    "\n",
    "myWrapper = ot.PythonFunction(3, 2, mySimulator)\n",
    "myWrapper = ot.MemoizeFunction(myWrapper)\n",
    "\n",
    "# Create the marginal distributions\n",
    "X0 = ot.Normal(0.0, 1.0)\n",
    "X1 = ot.Normal(0.0, 1.0)\n",
    "X2 = ot.Normal(0.0, 1.0)\n",
    "\n",
    "# Create the input probability distribution\n",
    "inputDistribution = ot.ComposedDistribution((X0, X1, X2))\n",
    "# Create the input random vector\n",
    "inputRandomVector = ot.RandomVector(inputDistribution)\n",
    "# Create the output variable of interest\n",
    "outputVariableOfInterest = ot.CompositeRandomVector(myWrapper, inputRandomVector)\n",
    "# Probabilistic Study: central dispersion\n",
    "montecarlosize = 20\n",
    "outputSample = outputVariableOfInterest.getSample(montecarlosize)\n",
    "\n",
    "# Get the history\n",
    "inputs = myWrapper.getInputHistory()\n",
    "print(\"inputs\")\n",
    "print(inputs[:5])\n",
    "outputs = myWrapper.getOutputHistory()\n",
    "print(\"outputs\")\n",
    "print(outputs[:5])\n",
    "# Nombre d'appels à la fonction G\n",
    "nGEvals = inputs.getSize()\n",
    "print(\"nGEvals = %d\" % (nGEvals))\n",
    "\n",
    "# Clear the history\n",
    "myWrapper.clearHistory()\n",
    "\n",
    "# See how the history is now empty\n",
    "print(\"After clearHistory. Output history:\")\n",
    "myWrapper.getOutputHistory()"
   ]
  },
  {
   "cell_type": "markdown",
   "metadata": {},
   "source": [
    "### Exercise 4: benchmark\n",
    "\n",
    "See `wrapper-python-benchmark.py` in the same directory."
   ]
  },
  {
   "cell_type": "markdown",
   "metadata": {},
   "source": [
    "### Exercise 5: configure the number of CPUs\n",
    "\n",
    "See the script `test_n_cpus.py`."
   ]
  },
  {
   "cell_type": "markdown",
   "metadata": {},
   "source": [
    "### Exercise 6: use otwrapy\n",
    "\n",
    "**Questions**\n",
    "\n",
    "- Install `otwrapy`.\n",
    "- Read the doc [of the Parallelizer class](https://openturns.github.io/otwrapy/master/_generated/otwrapy.Parallelizer.html#otwrapy.Parallelizer). \n",
    "- Parallelize the function with `n_cpus`.\n",
    "- Experiment with the 4 options of the optional `backend` input argument : \"ipyparallel\", \"joblib\", \"pathos\", or \"multiprocessing\"."
   ]
  },
  {
   "cell_type": "markdown",
   "metadata": {},
   "source": [
    "### Exercise 7: use Jax\n",
    "\n",
    "**Questions**\n",
    "\n",
    "- Install Jax\n",
    "- Read the [Quickstart](https://jax.readthedocs.io/en/latest/notebooks/quickstart.html). \n",
    "- Compute the exact derivative of the `Ishigami` function."
   ]
  },
  {
   "cell_type": "code",
   "execution_count": 14,
   "metadata": {},
   "outputs": [
    {
     "data": {
      "text/plain": [
       "[5.882132011203685]"
      ]
     },
     "execution_count": 14,
     "metadata": {},
     "output_type": "execute_result"
    }
   ],
   "source": [
    "def ishigami(x):\n",
    "    x1, x2, x3 = x\n",
    "    a = 7.0\n",
    "    b = 0.1\n",
    "    y = np.sin(x1) + a * np.sin(x2) ** 2 + b * x3**4 * np.sin(x1)\n",
    "    return [y]\n",
    "\n",
    "\n",
    "ishigami([1.0] * 3)"
   ]
  },
  {
   "cell_type": "code",
   "execution_count": null,
   "metadata": {},
   "outputs": [],
   "source": []
  }
 ],
 "metadata": {
  "kernelspec": {
   "display_name": "Python 3 (ipykernel)",
   "language": "python",
   "name": "python3"
  },
  "language_info": {
   "codemirror_mode": {
    "name": "ipython",
    "version": 3
   },
   "file_extension": ".py",
   "mimetype": "text/x-python",
   "name": "python",
   "nbconvert_exporter": "python",
   "pygments_lexer": "ipython3",
   "version": "3.9.13"
  }
 },
 "nbformat": 4,
 "nbformat_minor": 2
}
